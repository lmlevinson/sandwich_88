{
 "cells": [
  {
   "cell_type": "markdown",
   "metadata": {},
   "source": [
    "Analysis 3. In most trips, the actual fare was way higher than the base one (the equation given in analysis\n",
    "1). The reason for the extra fare paid by pax is traffic delays (and also drivers taking longer trips than\n",
    "necessary, sometimes due to congestion). Let’s see if this extra surcharge is related to the length and duration\n",
    "of the trip. This will help us predict it before a trip started. Fit a linear regression of travel distance vs. extra\n",
    "cost (the cost above the base fare) on the data from Day 1 to Day 10 of September, and see how the fitted\n",
    "line predicts the fares for data from Day 11 to Day 17? What is the error in prediction?\n"
   ]
  },
  {
   "cell_type": "code",
   "execution_count": 1,
   "metadata": {
    "collapsed": true
   },
   "outputs": [],
   "source": [
    "from datascience import *\n",
    "import numpy as np\n",
    "import matplotlib.pyplot as plt\n",
    "import warnings\n",
    "warnings.filterwarnings('ignore')\n",
    "%matplotlib inline"
   ]
  },
  {
<<<<<<< HEAD
   "cell_type": "code",
<<<<<<< HEAD
   "execution_count": 10,
   "metadata": {
    "collapsed": true
   },
   "outputs": [],
   "source": [
    "def parse_prefix(line, fmt):\n",
    "    try:\n",
    "        t = datetime.strptime(line, fmt)\n",
    "    except ValueError as v:\n",
    "        if len(v.args) > 0 and v.args[0].startswith('unconverted data remains: '):\n",
    "            line = line[:-(len(v.args[0]) - 26)]\n",
    "            t = datetime.strptime(line, fmt)\n",
    "        else:\n",
    "            raise\n",
    "    return t"
   ]
  },
  {
   "cell_type": "code",
   "execution_count": null,
   "metadata": {
    "collapsed": true
   },
   "outputs": [],
   "source": []
  },
  {
   "cell_type": "code",
   "execution_count": 56,
   "metadata": {},
   "outputs": [
    {
     "data": {
      "text/html": [
       "<table border=\"1\" class=\"dataframe\">\n",
       "    <thead>\n",
       "        <tr>\n",
       "            <th>id</th> <th>departure time</th> <th>arrival time</th> <th>fare ($)</th> <th>num</th> <th>dep lon</th> <th>dep lat</th> <th>arr lon</th> <th>arr lat</th> <th>deptaz</th> <th>arrtaz</th> <th>dist (miles)</th>\n",
       "        </tr>\n",
       "    </thead>\n",
       "    <tbody>\n",
       "        <tr>\n",
       "            <td>0   </td> <td>2012-09-01 00:11:00</td> <td>9/1/12 0:20 </td> <td>13.2    </td> <td>1   </td> <td>-122.414</td> <td>37.8027</td> <td>-122.421</td> <td>37.7854</td> <td>38    </td> <td>30    </td> <td>1.98084     </td>\n",
       "        </tr>\n",
       "    </tbody>\n",
       "        <tr>\n",
       "            <td>1   </td> <td>2012-09-01 00:23:00</td> <td>9/1/12 0:31 </td> <td>10.65   </td> <td>1   </td> <td>-122.42 </td> <td>37.7861</td> <td>-122.435</td> <td>37.7622</td> <td>30    </td> <td>94    </td> <td>2.40224     </td>\n",
       "        </tr>\n",
       "    </tbody>\n",
       "        <tr>\n",
       "            <td>2   </td> <td>2012-09-01 00:45:00</td> <td>9/1/12 0:49 </td> <td>9       </td> <td>1   </td> <td>-122.415</td> <td>37.7747</td> <td>-122.408</td> <td>37.7826</td> <td>10    </td> <td>11    </td> <td>0.479348    </td>\n",
       "        </tr>\n",
       "    </tbody>\n",
       "        <tr>\n",
       "            <td>4   </td> <td>2012-09-01 01:09:00</td> <td>9/1/12 1:13 </td> <td>7.35    </td> <td>1   </td> <td>-122.43 </td> <td>37.7978</td> <td>-122.418</td> <td>37.789 </td> <td>45    </td> <td>32    </td> <td>1.03807     </td>\n",
       "        </tr>\n",
       "    </tbody>\n",
       "        <tr>\n",
       "            <td>5   </td> <td>2012-09-01 01:40:00</td> <td>9/1/12 1:52 </td> <td>11.75   </td> <td>1   </td> <td>-122.433</td> <td>37.7841</td> <td>-122.411</td> <td>37.787 </td> <td>77    </td> <td>7     </td> <td>0.960851    </td>\n",
       "        </tr>\n",
       "    </tbody>\n",
       "        <tr>\n",
       "            <td>6   </td> <td>2012-09-01 02:49:00</td> <td>9/1/12 2:51 </td> <td>5.15    </td> <td>1   </td> <td>-122.409</td> <td>37.7856</td> <td>-122.412</td> <td>37.791 </td> <td>7     </td> <td>29    </td> <td>0.414315    </td>\n",
       "        </tr>\n",
       "    </tbody>\n",
       "        <tr>\n",
       "            <td>7   </td> <td>2012-09-01 03:29:00</td> <td>9/1/12 3:47 </td> <td>43.65   </td> <td>1   </td> <td>-122.403</td> <td>37.7927</td> <td>-122.386</td> <td>37.6181</td> <td>2     </td> <td>239   </td> <td>14.5105     </td>\n",
       "        </tr>\n",
       "    </tbody>\n",
       "        <tr>\n",
       "            <td>8   </td> <td>2012-09-01 00:33:00</td> <td>9/1/12 0:57 </td> <td>46.75   </td> <td>1   </td> <td>-122.387</td> <td>37.6174</td> <td>-122.407</td> <td>37.7889</td> <td>239   </td> <td>5     </td> <td>14.2747     </td>\n",
       "        </tr>\n",
       "    </tbody>\n",
       "        <tr>\n",
       "            <td>9   </td> <td>2012-09-01 04:39:00</td> <td>9/1/12 4:43 </td> <td>6.25    </td> <td>1   </td> <td>-122.422</td> <td>37.7977</td> <td>-122.418</td> <td>37.789 </td> <td>34    </td> <td>31    </td> <td>0.685312    </td>\n",
       "        </tr>\n",
       "    </tbody>\n",
       "        <tr>\n",
       "            <td>10  </td> <td>2012-09-01 01:59:00</td> <td>9/1/12 2:05 </td> <td>9.55    </td> <td>1   </td> <td>-122.418</td> <td>37.791 </td> <td>-122.429</td> <td>37.7724</td> <td>32    </td> <td>81    </td> <td>1.59807     </td>\n",
       "        </tr>\n",
       "    </tbody>\n",
       "</table>\n",
       "<p>... (34242 rows omitted)</p"
      ],
      "text/plain": [
       "id   | departure time      | arrival time | fare ($) | num  | dep lon  | dep lat | arr lon  | arr lat | deptaz | arrtaz | dist (miles)\n",
       "0    | 2012-09-01 00:11:00 | 9/1/12 0:20  | 13.2     | 1    | -122.414 | 37.8027 | -122.421 | 37.7854 | 38     | 30     | 1.98084\n",
       "1    | 2012-09-01 00:23:00 | 9/1/12 0:31  | 10.65    | 1    | -122.42  | 37.7861 | -122.435 | 37.7622 | 30     | 94     | 2.40224\n",
       "2    | 2012-09-01 00:45:00 | 9/1/12 0:49  | 9        | 1    | -122.415 | 37.7747 | -122.408 | 37.7826 | 10     | 11     | 0.479348\n",
       "4    | 2012-09-01 01:09:00 | 9/1/12 1:13  | 7.35     | 1    | -122.43  | 37.7978 | -122.418 | 37.789  | 45     | 32     | 1.03807\n",
       "5    | 2012-09-01 01:40:00 | 9/1/12 1:52  | 11.75    | 1    | -122.433 | 37.7841 | -122.411 | 37.787  | 77     | 7      | 0.960851\n",
       "6    | 2012-09-01 02:49:00 | 9/1/12 2:51  | 5.15     | 1    | -122.409 | 37.7856 | -122.412 | 37.791  | 7      | 29     | 0.414315\n",
       "7    | 2012-09-01 03:29:00 | 9/1/12 3:47  | 43.65    | 1    | -122.403 | 37.7927 | -122.386 | 37.6181 | 2      | 239    | 14.5105\n",
       "8    | 2012-09-01 00:33:00 | 9/1/12 0:57  | 46.75    | 1    | -122.387 | 37.6174 | -122.407 | 37.7889 | 239    | 5      | 14.2747\n",
       "9    | 2012-09-01 04:39:00 | 9/1/12 4:43  | 6.25     | 1    | -122.422 | 37.7977 | -122.418 | 37.789  | 34     | 31     | 0.685312\n",
       "10   | 2012-09-01 01:59:00 | 9/1/12 2:05  | 9.55     | 1    | -122.418 | 37.791  | -122.429 | 37.7724 | 32     | 81     | 1.59807\n",
       "... (34242 rows omitted)"
      ]
     },
     "execution_count": 56,
     "metadata": {},
     "output_type": "execute_result"
    }
   ],
   "source": [
    "taxi_unrefined = Table().read_table(\"SF_taxi_data.csv\")\n",
    "taxi = taxi_unrefined.where('num', 1).where('fare ($)', are.above(3.5))\n",
    "taxi[\"departure time\"] = taxi.select(\"departure time\").apply(lambda x: parse_prefix(x[0],\"%m/%d/%y %H:%M\"))\n",
    "taxi_filtered = taxi.where(list(map(lambda x: x.day >= 1 and x.day <=10, taxi[\"departure time\"])))\n",
    "taxi_filtered"
   ]
  },
  {
   "cell_type": "code",
   "execution_count": 32,
   "metadata": {
    "collapsed": true
   },
   "outputs": [],
   "source": [
    "#Calculate extra cost \n",
    "base_fare = 3.5 + 0.55 * (5*(taxi_filtered.column('dist (miles)')) - 1)\n",
    "taxi_extracost = taxi_filtered.with_column('extra cost', taxi_filtered['fare ($)'] - base_fare)\n",
    "taxi_train = taxi_extracost.select('dist (miles)', 'extra cost')"
   ]
  },
  {
   "cell_type": "code",
   "execution_count": 34,
   "metadata": {},
   "outputs": [
    {
     "data": {
      "image/png": "iVBORw0KGgoAAAANSUhEUgAAAagAAAEYCAYAAAAJeGK1AAAABHNCSVQICAgIfAhkiAAAAAlwSFlz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\nAABJRU5ErkJggg==\n",
      "text/plain": [
       "<matplotlib.figure.Figure at 0x1251b3d68>"
      ]
     },
     "metadata": {},
     "output_type": "display_data"
    }
   ],
   "source": [
    "plt.plot(taxi_train[1], taxi_train[0], 'bx')\n",
    "xlim = plt.gca().get_xlim()\n",
    "ylim = plt.gca().get_ylim()\n",
    "plt.xlabel(\"Distance (miles)\")\n",
    "plt.ylabel(\"Extra Cost ($)\")\n",
    "plt.tight_layout()\n",
    "plt.savefig(\"scatter.pdf\")"
   ]
  },
  {
   "cell_type": "markdown",
   "metadata": {},
   "source": [
    "### Estimate parameters "
   ]
  },
  {
   "cell_type": "code",
   "execution_count": 35,
   "metadata": {},
   "outputs": [
    {
     "data": {
      "text/plain": [
       "(0.56267047744076693, 2.1505127961236079)"
      ]
     },
     "execution_count": 35,
     "metadata": {},
     "output_type": "execute_result"
    }
   ],
   "source": [
    "x = taxi_train[\"dist (miles)\"]\n",
    "y = taxi_train[\"extra cost\"]\n",
    "theta1 = np.sum(x*(y-np.mean(y)))/np.sum(x*(x-np.mean(x)))\n",
    "theta2 = -theta1*np.mean(x) + np.mean(y)\n",
    "theta1, theta2"
   ]
  },
  {
   "cell_type": "markdown",
   "metadata": {},
   "source": [
    "### Plot linear regression"
   ]
  },
  {
   "cell_type": "code",
   "execution_count": 38,
   "metadata": {},
   "outputs": [
    {
     "data": {
      "image/png": "iVBORw0KGgoAAAANSUhEUgAAAagAAAEYCAYAAAAJeGK1AAAABHNCSVQICAgIfAhkiAAAAAlwSFlz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\n9P+iDuDKNfFOaQAAAABJRU5ErkJggg==\n",
      "text/plain": [
       "<matplotlib.figure.Figure at 0x11d390588>"
      ]
     },
     "metadata": {},
     "output_type": "display_data"
    }
   ],
   "source": [
    "plt.plot(taxi_train[\"dist (miles)\"], taxi_train[\"extra cost\"], \"bx\",\n",
    "         xlim, [theta1*xlim[0]+theta2, theta1*xlim[1]+theta2], 'g-')\n",
    "plt.ylim(ylim)\n",
    "plt.legend([\"Observed days\", \"Squared loss fit\"], loc=\"upper left\")\n",
    "plt.xlabel(\"Distance (miles)\")\n",
    "plt.ylabel(\"Extra Cost ($)\")\n",
    "plt.tight_layout()\n",
    "plt.savefig(\"fit.pdf\")"
   ]
  },
  {
   "cell_type": "markdown",
   "metadata": {},
   "source": [
    "### Prediction of extra cost by distance using linear regressor"
   ]
  },
  {
   "cell_type": "code",
   "execution_count": 43,
   "metadata": {
    "collapsed": true
   },
   "outputs": [],
   "source": [
    "from sklearn import linear_model\n",
    "from sklearn.metrics import mean_squared_error, r2_score"
   ]
  },
  {
   "cell_type": "code",
<<<<<<< HEAD
=======
>>>>>>> parent of ea8732c... accessed analysis 3
   "execution_count": 2,
   "metadata": {
    "collapsed": true
   },
<<<<<<< HEAD
=======
   "execution_count": 44,
<<<<<<< HEAD
=======
   "cell_type": "code",
   "execution_count": 4,
   "metadata": {},
   "outputs": [],
   "source": [
    "taxi = Table().read_table(\"SF_taxi_data.csv\")\n",
    "refined_data = taxi.where(\"num\", 1).where(\"fare ($)\", are.above(3.5))"
   ]
  },
  {
   "cell_type": "code",
   "execution_count": null,
>>>>>>> parent of 523129d... did analysis 3!!!
   "metadata": {
    "collapsed": true
   },
=======
   "metadata": {},
>>>>>>> 90f5ef6a3d08f75f4770fb0d2dd4555ea3f8c5b2
>>>>>>> 720b671f22b01efef8813ea8c154cf96419d7af3
=======
>>>>>>> parent of ea8732c... accessed analysis 3
   "outputs": [],
<<<<<<< HEAD
   "source": [
    "taxi = Table().read_table(\"SF_taxi_data.csv\")\n",
    "refined_data = taxi.where(\"num\", 1).where(\"fare ($)\", are.above(3.5))"
   ]
  },
  {
   "cell_type": "code",
   "execution_count": null,
   "metadata": {
    "collapsed": true
   },
   "outputs": [],
=======
>>>>>>> parent of 523129d... did analysis 3!!!
   "source": []
  }
 ],
 "metadata": {
  "kernelspec": {
   "display_name": "Python 3",
   "language": "python",
   "name": "python3"
  },
  "language_info": {
   "codemirror_mode": {
    "name": "ipython",
    "version": 3
   },
   "file_extension": ".py",
   "mimetype": "text/x-python",
   "name": "python",
   "nbconvert_exporter": "python",
   "pygments_lexer": "ipython3",
   "version": "3.6.3"
  }
 },
 "nbformat": 4,
 "nbformat_minor": 2
}
