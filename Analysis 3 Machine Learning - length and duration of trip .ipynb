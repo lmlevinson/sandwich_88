{
 "cells": [
  {
   "cell_type": "markdown",
   "metadata": {},
   "source": [
    "Analysis 3. In most trips, the actual fare was way higher than the base one (the equation given in analysis\n",
    "1). The reason for the extra fare paid by pax is traffic delays (and also drivers taking longer trips than\n",
    "necessary, sometimes due to congestion). Let’s see if this extra surcharge is related to the length and duration\n",
    "of the trip. This will help us predict it before a trip started. Fit a linear regression of travel distance vs. extra\n",
    "cost (the cost above the base fare) on the data from Day 1 to Day 10 of September, and see how the fitted\n",
    "line predicts the fares for data from Day 11 to Day 17? What is the error in prediction?\n"
   ]
  },
  {
   "cell_type": "code",
   "execution_count": 1,
   "metadata": {
    "collapsed": true
   },
   "outputs": [],
   "source": [
    "from datascience import *\n",
    "import numpy as np\n",
    "import matplotlib.pyplot as plt\n",
    "import warnings\n",
    "warnings.filterwarnings('ignore')\n",
    "%matplotlib inline"
   ]
  },
  {
   "cell_type": "code",
   "execution_count": 2,
   "metadata": {
    "collapsed": true
   },
   "outputs": [],
   "source": [
    "taxi = Table().read_table(\"SF_taxi_data.csv\")\n",
    "refined_data = taxi.where(\"num\", 1).where(\"fare ($)\", are.above(3.5))"
   ]
  },
  {
   "cell_type": "code",
   "execution_count": null,
   "metadata": {
    "collapsed": true
   },
   "outputs": [],
   "source": []
  }
 ],
 "metadata": {
  "kernelspec": {
   "display_name": "Python 3",
   "language": "python",
   "name": "python3"
  },
  "language_info": {
   "codemirror_mode": {
    "name": "ipython",
    "version": 3
   },
   "file_extension": ".py",
   "mimetype": "text/x-python",
   "name": "python",
   "nbconvert_exporter": "python",
   "pygments_lexer": "ipython3",
   "version": "3.6.3"
  }
 },
 "nbformat": 4,
 "nbformat_minor": 2
}
