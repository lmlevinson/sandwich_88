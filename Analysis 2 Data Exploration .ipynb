{
 "cells": [
  {
   "cell_type": "markdown",
   "metadata": {},
   "source": [
    "Analysis 2. Turns out the TAZ that contains SFO (San Francisco International Airport) is the TAZ that\n",
    "generates the most trips. find the most popular “deptaz” and save the taz id as sfo_taz. Then split the\n",
    "dataset into two groups of trips that originated or ended at SFO, and the rest of the trips. What can you say\n",
    "about these two groups of data? How different they are? (your answers need to be quantitative, based on\n",
    "some measures or metrics)"
   ]
  },
  {
   "cell_type": "code",
   "execution_count": 1,
   "metadata": {
    "collapsed": true
   },
   "outputs": [],
   "source": [
    "from datascience import *\n",
    "import numpy as np\n",
    "import matplotlib.pyplot as plt\n",
    "import warnings\n",
    "warnings.filterwarnings('ignore')\n",
    "%matplotlib inline"
   ]
  },
  {
   "cell_type": "code",
   "execution_count": 2,
   "metadata": {
    "collapsed": true
   },
   "outputs": [],
   "source": [
    "taxi = Table().read_table(\"SF_taxi_data.csv\")"
   ]
  },
  {
   "cell_type": "code",
   "execution_count": 3,
   "metadata": {
    "collapsed": true
   },
   "outputs": [],
   "source": [
    "refined_data = taxi.where(\"num\", 1).where(\"fare ($)\", are.above(3.5))"
   ]
  },
  {
   "cell_type": "code",
   "execution_count": 4,
   "metadata": {},
   "outputs": [
    {
     "data": {
      "text/html": [
       "<table border=\"1\" class=\"dataframe\">\n",
       "    <thead>\n",
       "        <tr>\n",
       "            <th>id</th> <th>departure time</th> <th>arrival time</th> <th>fare ($)</th> <th>num</th> <th>dep lon</th> <th>dep lat</th> <th>arr lon</th> <th>arr lat</th> <th>deptaz</th> <th>arrtaz</th> <th>dist (miles)</th>\n",
       "        </tr>\n",
       "    </thead>\n",
       "    <tbody>\n",
       "        <tr>\n",
       "            <td>0   </td> <td>9/1/12 0:11   </td> <td>9/1/12 0:20 </td> <td>13.2    </td> <td>1   </td> <td>-122.414</td> <td>37.8027</td> <td>-122.421</td> <td>37.7854</td> <td>38    </td> <td>30    </td> <td>1.98084     </td>\n",
       "        </tr>\n",
       "    </tbody>\n",
       "        <tr>\n",
       "            <td>1   </td> <td>9/1/12 0:23   </td> <td>9/1/12 0:31 </td> <td>10.65   </td> <td>1   </td> <td>-122.42 </td> <td>37.7861</td> <td>-122.435</td> <td>37.7622</td> <td>30    </td> <td>94    </td> <td>2.40224     </td>\n",
       "        </tr>\n",
       "    </tbody>\n",
       "        <tr>\n",
       "            <td>2   </td> <td>9/1/12 0:45   </td> <td>9/1/12 0:49 </td> <td>9       </td> <td>1   </td> <td>-122.415</td> <td>37.7747</td> <td>-122.408</td> <td>37.7826</td> <td>10    </td> <td>11    </td> <td>0.479348    </td>\n",
       "        </tr>\n",
       "    </tbody>\n",
       "        <tr>\n",
       "            <td>4   </td> <td>9/1/12 1:09   </td> <td>9/1/12 1:13 </td> <td>7.35    </td> <td>1   </td> <td>-122.43 </td> <td>37.7978</td> <td>-122.418</td> <td>37.789 </td> <td>45    </td> <td>32    </td> <td>1.03807     </td>\n",
       "        </tr>\n",
       "    </tbody>\n",
       "        <tr>\n",
       "            <td>5   </td> <td>9/1/12 1:40   </td> <td>9/1/12 1:52 </td> <td>11.75   </td> <td>1   </td> <td>-122.433</td> <td>37.7841</td> <td>-122.411</td> <td>37.787 </td> <td>77    </td> <td>7     </td> <td>0.960851    </td>\n",
       "        </tr>\n",
       "    </tbody>\n",
       "        <tr>\n",
       "            <td>6   </td> <td>9/1/12 2:49   </td> <td>9/1/12 2:51 </td> <td>5.15    </td> <td>1   </td> <td>-122.409</td> <td>37.7856</td> <td>-122.412</td> <td>37.791 </td> <td>7     </td> <td>29    </td> <td>0.414315    </td>\n",
       "        </tr>\n",
       "    </tbody>\n",
       "        <tr>\n",
       "            <td>7   </td> <td>9/1/12 3:29   </td> <td>9/1/12 3:47 </td> <td>43.65   </td> <td>1   </td> <td>-122.403</td> <td>37.7927</td> <td>-122.386</td> <td>37.6181</td> <td>2     </td> <td>239   </td> <td>14.5105     </td>\n",
       "        </tr>\n",
       "    </tbody>\n",
       "        <tr>\n",
       "            <td>8   </td> <td>9/1/12 0:33   </td> <td>9/1/12 0:57 </td> <td>46.75   </td> <td>1   </td> <td>-122.387</td> <td>37.6174</td> <td>-122.407</td> <td>37.7889</td> <td>239   </td> <td>5     </td> <td>14.2747     </td>\n",
       "        </tr>\n",
       "    </tbody>\n",
       "        <tr>\n",
       "            <td>9   </td> <td>9/1/12 4:39   </td> <td>9/1/12 4:43 </td> <td>6.25    </td> <td>1   </td> <td>-122.422</td> <td>37.7977</td> <td>-122.418</td> <td>37.789 </td> <td>34    </td> <td>31    </td> <td>0.685312    </td>\n",
       "        </tr>\n",
       "    </tbody>\n",
       "        <tr>\n",
       "            <td>10  </td> <td>9/1/12 1:59   </td> <td>9/1/12 2:05 </td> <td>9.55    </td> <td>1   </td> <td>-122.418</td> <td>37.791 </td> <td>-122.429</td> <td>37.7724</td> <td>32    </td> <td>81    </td> <td>1.59807     </td>\n",
       "        </tr>\n",
       "    </tbody>\n",
       "</table>\n",
       "<p>... (46394 rows omitted)</p"
      ],
      "text/plain": [
       "id   | departure time | arrival time | fare ($) | num  | dep lon  | dep lat | arr lon  | arr lat | deptaz | arrtaz | dist (miles)\n",
       "0    | 9/1/12 0:11    | 9/1/12 0:20  | 13.2     | 1    | -122.414 | 37.8027 | -122.421 | 37.7854 | 38     | 30     | 1.98084\n",
       "1    | 9/1/12 0:23    | 9/1/12 0:31  | 10.65    | 1    | -122.42  | 37.7861 | -122.435 | 37.7622 | 30     | 94     | 2.40224\n",
       "2    | 9/1/12 0:45    | 9/1/12 0:49  | 9        | 1    | -122.415 | 37.7747 | -122.408 | 37.7826 | 10     | 11     | 0.479348\n",
       "4    | 9/1/12 1:09    | 9/1/12 1:13  | 7.35     | 1    | -122.43  | 37.7978 | -122.418 | 37.789  | 45     | 32     | 1.03807\n",
       "5    | 9/1/12 1:40    | 9/1/12 1:52  | 11.75    | 1    | -122.433 | 37.7841 | -122.411 | 37.787  | 77     | 7      | 0.960851\n",
       "6    | 9/1/12 2:49    | 9/1/12 2:51  | 5.15     | 1    | -122.409 | 37.7856 | -122.412 | 37.791  | 7      | 29     | 0.414315\n",
       "7    | 9/1/12 3:29    | 9/1/12 3:47  | 43.65    | 1    | -122.403 | 37.7927 | -122.386 | 37.6181 | 2      | 239    | 14.5105\n",
       "8    | 9/1/12 0:33    | 9/1/12 0:57  | 46.75    | 1    | -122.387 | 37.6174 | -122.407 | 37.7889 | 239    | 5      | 14.2747\n",
       "9    | 9/1/12 4:39    | 9/1/12 4:43  | 6.25     | 1    | -122.422 | 37.7977 | -122.418 | 37.789  | 34     | 31     | 0.685312\n",
       "10   | 9/1/12 1:59    | 9/1/12 2:05  | 9.55     | 1    | -122.418 | 37.791  | -122.429 | 37.7724 | 32     | 81     | 1.59807\n",
       "... (46394 rows omitted)"
      ]
     },
     "execution_count": 4,
     "metadata": {},
     "output_type": "execute_result"
    }
   ],
   "source": [
    "refined_data"
   ]
  },
  {
   "cell_type": "code",
   "execution_count": 6,
   "metadata": {},
   "outputs": [
    {
     "data": {
      "text/plain": [
       "0"
      ]
     },
     "execution_count": 6,
     "metadata": {},
     "output_type": "execute_result"
    }
   ],
   "source": [
    "sfo_taz= refined_data.group(\"deptaz\").column(0).item(0)\n",
    "sfo_taz"
   ]
  },
  {
   "cell_type": "code",
   "execution_count": 39,
   "metadata": {},
   "outputs": [
    {
     "data": {
      "text/html": [
       "<table border=\"1\" class=\"dataframe\">\n",
       "    <thead>\n",
       "        <tr>\n",
       "            <th>id</th> <th>departure time</th> <th>arrival time</th> <th>fare ($)</th> <th>num</th> <th>dep lon</th> <th>dep lat</th> <th>arr lon</th> <th>arr lat</th> <th>deptaz</th> <th>arrtaz</th> <th>dist (miles)</th>\n",
       "        </tr>\n",
       "    </thead>\n",
       "    <tbody>\n",
       "        <tr>\n",
       "            <td>126 </td> <td>9/1/12 1:35   </td> <td>9/1/12 1:43 </td> <td>11.75   </td> <td>1   </td> <td>-122.408</td> <td>37.7877</td> <td>-122.404</td> <td>37.7607</td> <td>0     </td> <td>114   </td> <td>2.6232      </td>\n",
       "        </tr>\n",
       "    </tbody>\n",
       "        <tr>\n",
       "            <td>147 </td> <td>9/1/12 4:03   </td> <td>9/1/12 4:08 </td> <td>7.35    </td> <td>1   </td> <td>-122.393</td> <td>37.7935</td> <td>-122.41 </td> <td>37.7874</td> <td>0     </td> <td>7     </td> <td>1.24485     </td>\n",
       "        </tr>\n",
       "    </tbody>\n",
       "        <tr>\n",
       "            <td>225 </td> <td>9/1/12 10:21  </td> <td>9/1/12 10:40</td> <td>42      </td> <td>1   </td> <td>-122.408</td> <td>37.7876</td> <td>-122.39 </td> <td>37.6146</td> <td>0     </td> <td>239   </td> <td>14.1623     </td>\n",
       "        </tr>\n",
       "    </tbody>\n",
       "        <tr>\n",
       "            <td>246 </td> <td>9/1/12 6:47   </td> <td>9/1/12 7:01 </td> <td>42.05   </td> <td>1   </td> <td>-122.422</td> <td>37.7499</td> <td>-122.387</td> <td>37.6178</td> <td>0     </td> <td>239   </td> <td>11.7844     </td>\n",
       "        </tr>\n",
       "    </tbody>\n",
       "        <tr>\n",
       "            <td>293 </td> <td>9/1/12 2:38   </td> <td>9/1/12 3:00 </td> <td>23.85   </td> <td>1   </td> <td>-122.454</td> <td>37.7695</td> <td>-122.417</td> <td>37.7579</td> <td>0     </td> <td>101   </td> <td>2.47107     </td>\n",
       "        </tr>\n",
       "    </tbody>\n",
       "        <tr>\n",
       "            <td>305 </td> <td>9/1/12 3:24   </td> <td>9/1/12 3:34 </td> <td>13.4    </td> <td>1   </td> <td>-122.422</td> <td>37.76  </td> <td>-122.415</td> <td>37.7941</td> <td>0     </td> <td>28    </td> <td>2.68639     </td>\n",
       "        </tr>\n",
       "    </tbody>\n",
       "        <tr>\n",
       "            <td>493 </td> <td>9/1/12 2:23   </td> <td>9/1/12 2:40 </td> <td>20      </td> <td>1   </td> <td>-122.405</td> <td>37.7949</td> <td>-122.466</td> <td>37.7566</td> <td>0     </td> <td>174   </td> <td>5.16775     </td>\n",
       "        </tr>\n",
       "    </tbody>\n",
       "        <tr>\n",
       "            <td>508 </td> <td>9/1/12 15:21  </td> <td>9/1/12 15:44</td> <td>28.4    </td> <td>1   </td> <td>-122.475</td> <td>37.8076</td> <td>-122.418</td> <td>37.7507</td> <td>0     </td> <td>100   </td> <td>6.42459     </td>\n",
       "        </tr>\n",
       "    </tbody>\n",
       "        <tr>\n",
       "            <td>525 </td> <td>9/1/12 8:35   </td> <td>9/1/12 8:43 </td> <td>11.55   </td> <td>1   </td> <td>-122.408</td> <td>37.7879</td> <td>-122.419</td> <td>37.8073</td> <td>0     </td> <td>41    </td> <td>1.34779     </td>\n",
       "        </tr>\n",
       "    </tbody>\n",
       "        <tr>\n",
       "            <td>541 </td> <td>9/1/12 13:20  </td> <td>9/1/12 13:29</td> <td>8.45    </td> <td>1   </td> <td>-122.408</td> <td>37.788 </td> <td>-122.4  </td> <td>37.7904</td> <td>0     </td> <td>4     </td> <td>0.526979    </td>\n",
       "        </tr>\n",
       "    </tbody>\n",
       "</table>\n",
       "<p>... (2323 rows omitted)</p"
      ],
      "text/plain": [
       "id   | departure time | arrival time | fare ($) | num  | dep lon  | dep lat | arr lon  | arr lat | deptaz | arrtaz | dist (miles)\n",
       "126  | 9/1/12 1:35    | 9/1/12 1:43  | 11.75    | 1    | -122.408 | 37.7877 | -122.404 | 37.7607 | 0      | 114    | 2.6232\n",
       "147  | 9/1/12 4:03    | 9/1/12 4:08  | 7.35     | 1    | -122.393 | 37.7935 | -122.41  | 37.7874 | 0      | 7      | 1.24485\n",
       "225  | 9/1/12 10:21   | 9/1/12 10:40 | 42       | 1    | -122.408 | 37.7876 | -122.39  | 37.6146 | 0      | 239    | 14.1623\n",
       "246  | 9/1/12 6:47    | 9/1/12 7:01  | 42.05    | 1    | -122.422 | 37.7499 | -122.387 | 37.6178 | 0      | 239    | 11.7844\n",
       "293  | 9/1/12 2:38    | 9/1/12 3:00  | 23.85    | 1    | -122.454 | 37.7695 | -122.417 | 37.7579 | 0      | 101    | 2.47107\n",
       "305  | 9/1/12 3:24    | 9/1/12 3:34  | 13.4     | 1    | -122.422 | 37.76   | -122.415 | 37.7941 | 0      | 28     | 2.68639\n",
       "493  | 9/1/12 2:23    | 9/1/12 2:40  | 20       | 1    | -122.405 | 37.7949 | -122.466 | 37.7566 | 0      | 174    | 5.16775\n",
       "508  | 9/1/12 15:21   | 9/1/12 15:44 | 28.4     | 1    | -122.475 | 37.8076 | -122.418 | 37.7507 | 0      | 100    | 6.42459\n",
       "525  | 9/1/12 8:35    | 9/1/12 8:43  | 11.55    | 1    | -122.408 | 37.7879 | -122.419 | 37.8073 | 0      | 41     | 1.34779\n",
       "541  | 9/1/12 13:20   | 9/1/12 13:29 | 8.45     | 1    | -122.408 | 37.788  | -122.4   | 37.7904 | 0      | 4      | 0.526979\n",
       "... (2323 rows omitted)"
      ]
     },
     "execution_count": 39,
     "metadata": {},
     "output_type": "execute_result"
    }
   ],
   "source": [
    "sf1 = refined_data.where(\"deptaz\", are.equal_to(sfo_taz)).where(\"arrtaz\", are.not_equal_to(sfo_taz))\n",
    "sf2 = refined_data.where(\"arrtaz\", are.equal_to(sfo_taz))\n",
    "appended = sf1.append(sf2)\n",
    "appended"
   ]
  },
  {
   "cell_type": "code",
   "execution_count": 42,
   "metadata": {},
   "outputs": [
    {
     "data": {
      "text/html": [
       "<table border=\"1\" class=\"dataframe\">\n",
       "    <thead>\n",
       "        <tr>\n",
       "            <th>id</th> <th>departure time</th> <th>arrival time</th> <th>fare ($)</th> <th>num</th> <th>dep lon</th> <th>dep lat</th> <th>arr lon</th> <th>arr lat</th> <th>deptaz</th> <th>arrtaz</th> <th>dist (miles)</th>\n",
       "        </tr>\n",
       "    </thead>\n",
       "    <tbody>\n",
       "        <tr>\n",
       "            <td>0   </td> <td>9/1/12 0:11   </td> <td>9/1/12 0:20 </td> <td>13.2    </td> <td>1   </td> <td>-122.414</td> <td>37.8027</td> <td>-122.421</td> <td>37.7854</td> <td>38    </td> <td>30    </td> <td>1.98084     </td>\n",
       "        </tr>\n",
       "    </tbody>\n",
       "        <tr>\n",
       "            <td>1   </td> <td>9/1/12 0:23   </td> <td>9/1/12 0:31 </td> <td>10.65   </td> <td>1   </td> <td>-122.42 </td> <td>37.7861</td> <td>-122.435</td> <td>37.7622</td> <td>30    </td> <td>94    </td> <td>2.40224     </td>\n",
       "        </tr>\n",
       "    </tbody>\n",
       "        <tr>\n",
       "            <td>2   </td> <td>9/1/12 0:45   </td> <td>9/1/12 0:49 </td> <td>9       </td> <td>1   </td> <td>-122.415</td> <td>37.7747</td> <td>-122.408</td> <td>37.7826</td> <td>10    </td> <td>11    </td> <td>0.479348    </td>\n",
       "        </tr>\n",
       "    </tbody>\n",
       "        <tr>\n",
       "            <td>4   </td> <td>9/1/12 1:09   </td> <td>9/1/12 1:13 </td> <td>7.35    </td> <td>1   </td> <td>-122.43 </td> <td>37.7978</td> <td>-122.418</td> <td>37.789 </td> <td>45    </td> <td>32    </td> <td>1.03807     </td>\n",
       "        </tr>\n",
       "    </tbody>\n",
       "        <tr>\n",
       "            <td>5   </td> <td>9/1/12 1:40   </td> <td>9/1/12 1:52 </td> <td>11.75   </td> <td>1   </td> <td>-122.433</td> <td>37.7841</td> <td>-122.411</td> <td>37.787 </td> <td>77    </td> <td>7     </td> <td>0.960851    </td>\n",
       "        </tr>\n",
       "    </tbody>\n",
       "        <tr>\n",
       "            <td>6   </td> <td>9/1/12 2:49   </td> <td>9/1/12 2:51 </td> <td>5.15    </td> <td>1   </td> <td>-122.409</td> <td>37.7856</td> <td>-122.412</td> <td>37.791 </td> <td>7     </td> <td>29    </td> <td>0.414315    </td>\n",
       "        </tr>\n",
       "    </tbody>\n",
       "        <tr>\n",
       "            <td>7   </td> <td>9/1/12 3:29   </td> <td>9/1/12 3:47 </td> <td>43.65   </td> <td>1   </td> <td>-122.403</td> <td>37.7927</td> <td>-122.386</td> <td>37.6181</td> <td>2     </td> <td>239   </td> <td>14.5105     </td>\n",
       "        </tr>\n",
       "    </tbody>\n",
       "        <tr>\n",
       "            <td>8   </td> <td>9/1/12 0:33   </td> <td>9/1/12 0:57 </td> <td>46.75   </td> <td>1   </td> <td>-122.387</td> <td>37.6174</td> <td>-122.407</td> <td>37.7889</td> <td>239   </td> <td>5     </td> <td>14.2747     </td>\n",
       "        </tr>\n",
       "    </tbody>\n",
       "        <tr>\n",
       "            <td>9   </td> <td>9/1/12 4:39   </td> <td>9/1/12 4:43 </td> <td>6.25    </td> <td>1   </td> <td>-122.422</td> <td>37.7977</td> <td>-122.418</td> <td>37.789 </td> <td>34    </td> <td>31    </td> <td>0.685312    </td>\n",
       "        </tr>\n",
       "    </tbody>\n",
       "        <tr>\n",
       "            <td>10  </td> <td>9/1/12 1:59   </td> <td>9/1/12 2:05 </td> <td>9.55    </td> <td>1   </td> <td>-122.418</td> <td>37.791 </td> <td>-122.429</td> <td>37.7724</td> <td>32    </td> <td>81    </td> <td>1.59807     </td>\n",
       "        </tr>\n",
       "    </tbody>\n",
       "</table>\n",
       "<p>... (44061 rows omitted)</p"
      ],
      "text/plain": [
       "id   | departure time | arrival time | fare ($) | num  | dep lon  | dep lat | arr lon  | arr lat | deptaz | arrtaz | dist (miles)\n",
       "0    | 9/1/12 0:11    | 9/1/12 0:20  | 13.2     | 1    | -122.414 | 37.8027 | -122.421 | 37.7854 | 38     | 30     | 1.98084\n",
       "1    | 9/1/12 0:23    | 9/1/12 0:31  | 10.65    | 1    | -122.42  | 37.7861 | -122.435 | 37.7622 | 30     | 94     | 2.40224\n",
       "2    | 9/1/12 0:45    | 9/1/12 0:49  | 9        | 1    | -122.415 | 37.7747 | -122.408 | 37.7826 | 10     | 11     | 0.479348\n",
       "4    | 9/1/12 1:09    | 9/1/12 1:13  | 7.35     | 1    | -122.43  | 37.7978 | -122.418 | 37.789  | 45     | 32     | 1.03807\n",
       "5    | 9/1/12 1:40    | 9/1/12 1:52  | 11.75    | 1    | -122.433 | 37.7841 | -122.411 | 37.787  | 77     | 7      | 0.960851\n",
       "6    | 9/1/12 2:49    | 9/1/12 2:51  | 5.15     | 1    | -122.409 | 37.7856 | -122.412 | 37.791  | 7      | 29     | 0.414315\n",
       "7    | 9/1/12 3:29    | 9/1/12 3:47  | 43.65    | 1    | -122.403 | 37.7927 | -122.386 | 37.6181 | 2      | 239    | 14.5105\n",
       "8    | 9/1/12 0:33    | 9/1/12 0:57  | 46.75    | 1    | -122.387 | 37.6174 | -122.407 | 37.7889 | 239    | 5      | 14.2747\n",
       "9    | 9/1/12 4:39    | 9/1/12 4:43  | 6.25     | 1    | -122.422 | 37.7977 | -122.418 | 37.789  | 34     | 31     | 0.685312\n",
       "10   | 9/1/12 1:59    | 9/1/12 2:05  | 9.55     | 1    | -122.418 | 37.791  | -122.429 | 37.7724 | 32     | 81     | 1.59807\n",
       "... (44061 rows omitted)"
      ]
     },
     "execution_count": 42,
     "metadata": {},
     "output_type": "execute_result"
    }
   ],
   "source": [
    "not_sf = refined_data.where(\"deptaz\", are.not_equal_to(sfo_taz)).where(\"arrtaz\", are.not_equal_to(sfo_taz))\n",
    "not_sf"
   ]
  },
  {
   "cell_type": "code",
   "execution_count": 44,
   "metadata": {},
   "outputs": [
    {
     "data": {
      "text/plain": [
       "True"
      ]
     },
     "execution_count": 44,
     "metadata": {},
     "output_type": "execute_result"
    }
   ],
   "source": [
    "(appended.num_rows + not_sf.num_rows) == refined_data.num_rows"
   ]
  },
  {
   "cell_type": "code",
   "execution_count": 80,
   "metadata": {
    "collapsed": true
   },
   "outputs": [],
   "source": [
    "def prediction_lin_r(table, col, slope, intercept):\n",
    "    x= table.column(col) \n",
    "    predictions = slope * x + intercept\n",
    "    return predictions"
   ]
  },
  {
   "cell_type": "code",
   "execution_count": 81,
   "metadata": {},
   "outputs": [
    {
     "data": {
      "text/plain": [
       "(3.3664289492171582, 5.6245348288279384)"
      ]
     },
     "execution_count": 81,
     "metadata": {},
     "output_type": "execute_result"
    }
   ],
   "source": [
    "x = appended[\"dist (miles)\"]\n",
    "y = appended[\"fare ($)\"]\n",
    "theta1 = np.sum(x*(y-np.mean(y)))/np.sum(x*(x-np.mean(x)))\n",
    "theta2 = -theta1*np.mean(x) + np.mean(y)\n",
    "theta1, theta2"
   ]
  },
  {
   "cell_type": "code",
   "execution_count": 82,
   "metadata": {},
   "outputs": [
    {
     "data": {
      "text/plain": [
       "4.8137816598425927"
      ]
     },
     "execution_count": 82,
     "metadata": {},
     "output_type": "execute_result"
    }
   ],
   "source": [
    "prediction = prediction_lin_r(appended, \"dist (miles)\",3.3664289492171582, 5.6245348288279384)\n",
    "truth = appended.column(\"fare ($)\")\n",
    "error = truth - prediction\n",
    "\n",
    "def rmse(error):\n",
    "    return np.sqrt(np.mean((error)**2))\n",
    "\n",
    "rmse(error)"
   ]
  },
  {
   "cell_type": "code",
   "execution_count": 83,
   "metadata": {},
   "outputs": [
    {
     "data": {
      "text/html": [
       "<table border=\"1\" class=\"dataframe\">\n",
       "    <thead>\n",
       "        <tr>\n",
       "            <th>dist (miles)</th> <th>fare ($)</th> <th>Prediction</th>\n",
       "        </tr>\n",
       "    </thead>\n",
       "    <tbody>\n",
       "        <tr>\n",
       "            <td>2.6232      </td> <td>11.75   </td> <td>14.4554   </td>\n",
       "        </tr>\n",
       "    </tbody>\n",
       "        <tr>\n",
       "            <td>1.24485     </td> <td>7.35    </td> <td>9.81525   </td>\n",
       "        </tr>\n",
       "    </tbody>\n",
       "        <tr>\n",
       "            <td>14.1623     </td> <td>42      </td> <td>53.3009   </td>\n",
       "        </tr>\n",
       "    </tbody>\n",
       "        <tr>\n",
       "            <td>11.7844     </td> <td>42.05   </td> <td>45.2958   </td>\n",
       "        </tr>\n",
       "    </tbody>\n",
       "        <tr>\n",
       "            <td>2.47107     </td> <td>23.85   </td> <td>13.9432   </td>\n",
       "        </tr>\n",
       "    </tbody>\n",
       "        <tr>\n",
       "            <td>2.68639     </td> <td>13.4    </td> <td>14.6681   </td>\n",
       "        </tr>\n",
       "    </tbody>\n",
       "        <tr>\n",
       "            <td>5.16775     </td> <td>20      </td> <td>23.0214   </td>\n",
       "        </tr>\n",
       "    </tbody>\n",
       "        <tr>\n",
       "            <td>6.42459     </td> <td>28.4    </td> <td>27.2524   </td>\n",
       "        </tr>\n",
       "    </tbody>\n",
       "        <tr>\n",
       "            <td>1.34779     </td> <td>11.55   </td> <td>10.1618   </td>\n",
       "        </tr>\n",
       "    </tbody>\n",
       "        <tr>\n",
       "            <td>0.526979    </td> <td>8.45    </td> <td>7.39857   </td>\n",
       "        </tr>\n",
       "    </tbody>\n",
       "</table>\n",
       "<p>... (2323 rows omitted)</p"
      ],
      "text/plain": [
       "dist (miles) | fare ($) | Prediction\n",
       "2.6232       | 11.75    | 14.4554\n",
       "1.24485      | 7.35     | 9.81525\n",
       "14.1623      | 42       | 53.3009\n",
       "11.7844      | 42.05    | 45.2958\n",
       "2.47107      | 23.85    | 13.9432\n",
       "2.68639      | 13.4     | 14.6681\n",
       "5.16775      | 20       | 23.0214\n",
       "6.42459      | 28.4     | 27.2524\n",
       "1.34779      | 11.55    | 10.1618\n",
       "0.526979     | 8.45     | 7.39857\n",
       "... (2323 rows omitted)"
      ]
     },
     "execution_count": 83,
     "metadata": {},
     "output_type": "execute_result"
    }
   ],
   "source": [
    "append_predict = appended.select(\"dist (miles)\", \"fare ($)\").with_column(\"Prediction\", prediction)\n",
    "append_predict"
   ]
  },
  {
   "cell_type": "markdown",
   "metadata": {},
   "source": [
    "."
   ]
  },
  {
   "cell_type": "code",
   "execution_count": 84,
   "metadata": {},
   "outputs": [
    {
     "data": {
      "text/plain": [
       "(3.333535544306014, 5.0539072219542511)"
      ]
     },
     "execution_count": 84,
     "metadata": {},
     "output_type": "execute_result"
    }
   ],
   "source": [
    "x = not_sf[\"dist (miles)\"]\n",
    "y = not_sf[\"fare ($)\"]\n",
    "theta1 = np.sum(x*(y-np.mean(y)))/np.sum(x*(x-np.mean(x)))\n",
    "theta2 = -theta1*np.mean(x) + np.mean(y)\n",
    "theta1, theta2"
   ]
  },
  {
   "cell_type": "code",
   "execution_count": 85,
   "metadata": {},
   "outputs": [
    {
     "data": {
      "text/plain": [
       "5.0507726184763566"
      ]
     },
     "execution_count": 85,
     "metadata": {},
     "output_type": "execute_result"
    }
   ],
   "source": [
    "prediction = prediction_lin_r(not_sf, \"dist (miles)\",3.333535544306014, 5.0539072219542511)\n",
    "truth = not_sf.column(\"fare ($)\")\n",
    "error = truth - prediction\n",
    "\n",
    "rmse(error)"
   ]
  },
  {
   "cell_type": "code",
   "execution_count": 86,
   "metadata": {},
   "outputs": [
    {
     "data": {
      "text/html": [
       "<table border=\"1\" class=\"dataframe\">\n",
       "    <thead>\n",
       "        <tr>\n",
       "            <th>dist (miles)</th> <th>fare ($)</th> <th>Prediction</th>\n",
       "        </tr>\n",
       "    </thead>\n",
       "    <tbody>\n",
       "        <tr>\n",
       "            <td>1.98084     </td> <td>13.2    </td> <td>11.6571   </td>\n",
       "        </tr>\n",
       "    </tbody>\n",
       "        <tr>\n",
       "            <td>2.40224     </td> <td>10.65   </td> <td>13.0619   </td>\n",
       "        </tr>\n",
       "    </tbody>\n",
       "        <tr>\n",
       "            <td>0.479348    </td> <td>9       </td> <td>6.65183   </td>\n",
       "        </tr>\n",
       "    </tbody>\n",
       "        <tr>\n",
       "            <td>1.03807     </td> <td>7.35    </td> <td>8.51435   </td>\n",
       "        </tr>\n",
       "    </tbody>\n",
       "        <tr>\n",
       "            <td>0.960851    </td> <td>11.75   </td> <td>8.25694   </td>\n",
       "        </tr>\n",
       "    </tbody>\n",
       "        <tr>\n",
       "            <td>0.414315    </td> <td>5.15    </td> <td>6.43504   </td>\n",
       "        </tr>\n",
       "    </tbody>\n",
       "        <tr>\n",
       "            <td>14.5105     </td> <td>43.65   </td> <td>53.4253   </td>\n",
       "        </tr>\n",
       "    </tbody>\n",
       "        <tr>\n",
       "            <td>14.2747     </td> <td>46.75   </td> <td>52.6391   </td>\n",
       "        </tr>\n",
       "    </tbody>\n",
       "        <tr>\n",
       "            <td>0.685312    </td> <td>6.25    </td> <td>7.33842   </td>\n",
       "        </tr>\n",
       "    </tbody>\n",
       "        <tr>\n",
       "            <td>1.59807     </td> <td>9.55    </td> <td>10.3811   </td>\n",
       "        </tr>\n",
       "    </tbody>\n",
       "</table>\n",
       "<p>... (44061 rows omitted)</p"
      ],
      "text/plain": [
       "dist (miles) | fare ($) | Prediction\n",
       "1.98084      | 13.2     | 11.6571\n",
       "2.40224      | 10.65    | 13.0619\n",
       "0.479348     | 9        | 6.65183\n",
       "1.03807      | 7.35     | 8.51435\n",
       "0.960851     | 11.75    | 8.25694\n",
       "0.414315     | 5.15     | 6.43504\n",
       "14.5105      | 43.65    | 53.4253\n",
       "14.2747      | 46.75    | 52.6391\n",
       "0.685312     | 6.25     | 7.33842\n",
       "1.59807      | 9.55     | 10.3811\n",
       "... (44061 rows omitted)"
      ]
     },
     "execution_count": 86,
     "metadata": {},
     "output_type": "execute_result"
    }
   ],
   "source": [
    "not_sf_predict = not_sf.select(\"dist (miles)\", \"fare ($)\").with_column(\"Prediction\", prediction)\n",
    "not_sf_predict"
   ]
  },
  {
   "cell_type": "code",
   "execution_count": 87,
   "metadata": {},
   "outputs": [
    {
     "data": {
      "text/html": [
       "<table border=\"1\" class=\"dataframe\">\n",
       "    <thead>\n",
       "        <tr>\n",
       "            <th>dist (miles)</th> <th>fare ($)</th> <th>Prediction</th>\n",
       "        </tr>\n",
       "    </thead>\n",
       "    <tbody>\n",
       "        <tr>\n",
       "            <td>2.6232      </td> <td>11.75   </td> <td>14.4554   </td>\n",
       "        </tr>\n",
       "    </tbody>\n",
       "        <tr>\n",
       "            <td>1.24485     </td> <td>7.35    </td> <td>9.81525   </td>\n",
       "        </tr>\n",
       "    </tbody>\n",
       "        <tr>\n",
       "            <td>14.1623     </td> <td>42      </td> <td>53.3009   </td>\n",
       "        </tr>\n",
       "    </tbody>\n",
       "        <tr>\n",
       "            <td>11.7844     </td> <td>42.05   </td> <td>45.2958   </td>\n",
       "        </tr>\n",
       "    </tbody>\n",
       "        <tr>\n",
       "            <td>2.47107     </td> <td>23.85   </td> <td>13.9432   </td>\n",
       "        </tr>\n",
       "    </tbody>\n",
       "        <tr>\n",
       "            <td>2.68639     </td> <td>13.4    </td> <td>14.6681   </td>\n",
       "        </tr>\n",
       "    </tbody>\n",
       "        <tr>\n",
       "            <td>5.16775     </td> <td>20      </td> <td>23.0214   </td>\n",
       "        </tr>\n",
       "    </tbody>\n",
       "        <tr>\n",
       "            <td>6.42459     </td> <td>28.4    </td> <td>27.2524   </td>\n",
       "        </tr>\n",
       "    </tbody>\n",
       "        <tr>\n",
       "            <td>1.34779     </td> <td>11.55   </td> <td>10.1618   </td>\n",
       "        </tr>\n",
       "    </tbody>\n",
       "        <tr>\n",
       "            <td>0.526979    </td> <td>8.45    </td> <td>7.39857   </td>\n",
       "        </tr>\n",
       "    </tbody>\n",
       "</table>\n",
       "<p>... (46394 rows omitted)</p"
      ],
      "text/plain": [
       "dist (miles) | fare ($) | Prediction\n",
       "2.6232       | 11.75    | 14.4554\n",
       "1.24485      | 7.35     | 9.81525\n",
       "14.1623      | 42       | 53.3009\n",
       "11.7844      | 42.05    | 45.2958\n",
       "2.47107      | 23.85    | 13.9432\n",
       "2.68639      | 13.4     | 14.6681\n",
       "5.16775      | 20       | 23.0214\n",
       "6.42459      | 28.4     | 27.2524\n",
       "1.34779      | 11.55    | 10.1618\n",
       "0.526979     | 8.45     | 7.39857\n",
       "... (46394 rows omitted)"
      ]
     },
     "execution_count": 87,
     "metadata": {},
     "output_type": "execute_result"
    }
   ],
   "source": [
    "final_table = append_predict.append(not_sf_predict)\n",
    "final_table"
   ]
  },
  {
   "cell_type": "code",
   "execution_count": 90,
   "metadata": {},
   "outputs": [
    {
     "data": {
      "image/png": "[encoded data removed]",
      "text/plain": [
       "<matplotlib.figure.Figure at 0x111ba6588>"
      ]
     },
     "metadata": {},
     "output_type": "display_data"
    }
   ],
   "source": [
    "final_table.scatter(0)"
   ]
  },
  {
   "cell_type": "code",
   "execution_count": 91,
   "metadata": {},
   "outputs": [
    {
     "data": {
      "image/png": "[encoded data removed]",
      "text/plain": [
       "<matplotlib.figure.Figure at 0x110749828>"
      ]
     },
     "metadata": {},
     "output_type": "display_data"
    }
   ],
   "source": [
    "not_sf_predict.scatter(0)"
   ]
  },
  {
   "cell_type": "code",
   "execution_count": 92,
   "metadata": {},
   "outputs": [
    {
     "data": {
      "image/png": "[encoded data removed]",
      "text/plain": [
       "<matplotlib.figure.Figure at 0x111af7550>"
      ]
     },
     "metadata": {},
     "output_type": "display_data"
    }
   ],
   "source": [
    "append_predict.scatter(0)"
   ]
  },
  {
   "cell_type": "code",
   "execution_count": null,
   "metadata": {
    "collapsed": true
   },
   "outputs": [],
   "source": []
  }
 ],
 "metadata": {
  "kernelspec": {
   "display_name": "Python 3",
   "language": "python",
   "name": "python3"
  },
  "language_info": {
   "codemirror_mode": {
    "name": "ipython",
    "version": 3
   },
   "file_extension": ".py",
   "mimetype": "text/x-python",
   "name": "python",
   "nbconvert_exporter": "python",
   "pygments_lexer": "ipython3",
   "version": "3.6.1"
  }
 },
 "nbformat": 4,
 "nbformat_minor": 2
}
