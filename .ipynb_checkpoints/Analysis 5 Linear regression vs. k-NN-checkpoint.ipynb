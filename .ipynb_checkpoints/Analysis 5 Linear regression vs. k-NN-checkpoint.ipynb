{
 "cells": [
  {
   "cell_type": "markdown",
   "metadata": {},
   "source": [
    "Analysis 5. Take the data of fares and distances from day 1 to day 10 of September as training data, and\n",
    "data from day 11 to day 17 as testing data. Apply both linear regression and k-nearest neighbor (with\n",
    "k = {1, 5, 10}) to identify the fares in the testing data given the distances and compare the results. Which\n",
    "method is better and why? What is the difference between performance of k-NN with different values of k?"
   ]
  },
  {
   "cell_type": "code",
   "execution_count": 5,
   "metadata": {
    "collapsed": true
   },
   "outputs": [],
   "source": [
    "from datascience import *\n",
    "import numpy as np\n",
    "import matplotlib.pyplot as plt\n",
    "import warnings\n",
    "warnings.filterwarnings('ignore')\n",
    "%matplotlib inline\n",
    "import seaborn\n",
    "from datetime import datetime\n",
    "seaborn.set_context(rc={'lines.markeredgewidth': 1.0})\n",
    "%matplotlib inline"
   ]
  },
  {
   "cell_type": "code",
   "execution_count": 6,
   "metadata": {
    "collapsed": true
   },
   "outputs": [],
   "source": [
    "taxi = Table().read_table(\"SF_taxi_data.csv\")\n",
    "refined_data = taxi.where(\"num\", 1).where(\"fare ($)\", are.above(3.5))"
   ]
  },
  {
   "cell_type": "code",
   "execution_count": 17,
   "metadata": {},
   "outputs": [
    {
     "data": {
      "text/html": [
       "<table border=\"1\" class=\"dataframe\">\n",
       "    <thead>\n",
       "        <tr>\n",
       "            <th>id</th> <th>departure time</th> <th>arrival time</th> <th>fare ($)</th> <th>num</th> <th>dep lon</th> <th>dep lat</th> <th>arr lon</th> <th>arr lat</th> <th>deptaz</th> <th>arrtaz</th> <th>dist (miles)</th>\n",
       "        </tr>\n",
       "    </thead>\n",
       "    <tbody>\n",
       "        <tr>\n",
       "            <td>0   </td> <td>2012-09-01 00:00:00</td> <td>9/1/12 0:20 </td> <td>13.2    </td> <td>1   </td> <td>-122.414</td> <td>37.8027</td> <td>-122.421</td> <td>37.7854</td> <td>38    </td> <td>30    </td> <td>1.98084     </td>\n",
       "        </tr>\n",
       "    </tbody>\n",
       "        <tr>\n",
       "            <td>1   </td> <td>2012-09-01 00:00:00</td> <td>9/1/12 0:31 </td> <td>10.65   </td> <td>1   </td> <td>-122.42 </td> <td>37.7861</td> <td>-122.435</td> <td>37.7622</td> <td>30    </td> <td>94    </td> <td>2.40224     </td>\n",
       "        </tr>\n",
       "    </tbody>\n",
       "        <tr>\n",
       "            <td>2   </td> <td>2012-09-01 00:00:00</td> <td>9/1/12 0:49 </td> <td>9       </td> <td>1   </td> <td>-122.415</td> <td>37.7747</td> <td>-122.408</td> <td>37.7826</td> <td>10    </td> <td>11    </td> <td>0.479348    </td>\n",
       "        </tr>\n",
       "    </tbody>\n",
       "        <tr>\n",
       "            <td>4   </td> <td>2012-09-01 00:00:00</td> <td>9/1/12 1:13 </td> <td>7.35    </td> <td>1   </td> <td>-122.43 </td> <td>37.7978</td> <td>-122.418</td> <td>37.789 </td> <td>45    </td> <td>32    </td> <td>1.03807     </td>\n",
       "        </tr>\n",
       "    </tbody>\n",
       "        <tr>\n",
       "            <td>5   </td> <td>2012-09-01 00:00:00</td> <td>9/1/12 1:52 </td> <td>11.75   </td> <td>1   </td> <td>-122.433</td> <td>37.7841</td> <td>-122.411</td> <td>37.787 </td> <td>77    </td> <td>7     </td> <td>0.960851    </td>\n",
       "        </tr>\n",
       "    </tbody>\n",
       "        <tr>\n",
       "            <td>6   </td> <td>2012-09-01 00:00:00</td> <td>9/1/12 2:51 </td> <td>5.15    </td> <td>1   </td> <td>-122.409</td> <td>37.7856</td> <td>-122.412</td> <td>37.791 </td> <td>7     </td> <td>29    </td> <td>0.414315    </td>\n",
       "        </tr>\n",
       "    </tbody>\n",
       "        <tr>\n",
       "            <td>7   </td> <td>2012-09-01 00:00:00</td> <td>9/1/12 3:47 </td> <td>43.65   </td> <td>1   </td> <td>-122.403</td> <td>37.7927</td> <td>-122.386</td> <td>37.6181</td> <td>2     </td> <td>239   </td> <td>14.5105     </td>\n",
       "        </tr>\n",
       "    </tbody>\n",
       "        <tr>\n",
       "            <td>8   </td> <td>2012-09-01 00:00:00</td> <td>9/1/12 0:57 </td> <td>46.75   </td> <td>1   </td> <td>-122.387</td> <td>37.6174</td> <td>-122.407</td> <td>37.7889</td> <td>239   </td> <td>5     </td> <td>14.2747     </td>\n",
       "        </tr>\n",
       "    </tbody>\n",
       "        <tr>\n",
       "            <td>9   </td> <td>2012-09-01 00:00:00</td> <td>9/1/12 4:43 </td> <td>6.25    </td> <td>1   </td> <td>-122.422</td> <td>37.7977</td> <td>-122.418</td> <td>37.789 </td> <td>34    </td> <td>31    </td> <td>0.685312    </td>\n",
       "        </tr>\n",
       "    </tbody>\n",
       "        <tr>\n",
       "            <td>10  </td> <td>2012-09-01 00:00:00</td> <td>9/1/12 2:05 </td> <td>9.55    </td> <td>1   </td> <td>-122.418</td> <td>37.791 </td> <td>-122.429</td> <td>37.7724</td> <td>32    </td> <td>81    </td> <td>1.59807     </td>\n",
       "        </tr>\n",
       "    </tbody>\n",
       "</table>\n",
       "<p>... (46394 rows omitted)</p"
      ],
      "text/plain": [
       "id   | departure time      | arrival time | fare ($) | num  | dep lon  | dep lat | arr lon  | arr lat | deptaz | arrtaz | dist (miles)\n",
       "0    | 2012-09-01 00:00:00 | 9/1/12 0:20  | 13.2     | 1    | -122.414 | 37.8027 | -122.421 | 37.7854 | 38     | 30     | 1.98084\n",
       "1    | 2012-09-01 00:00:00 | 9/1/12 0:31  | 10.65    | 1    | -122.42  | 37.7861 | -122.435 | 37.7622 | 30     | 94     | 2.40224\n",
       "2    | 2012-09-01 00:00:00 | 9/1/12 0:49  | 9        | 1    | -122.415 | 37.7747 | -122.408 | 37.7826 | 10     | 11     | 0.479348\n",
       "4    | 2012-09-01 00:00:00 | 9/1/12 1:13  | 7.35     | 1    | -122.43  | 37.7978 | -122.418 | 37.789  | 45     | 32     | 1.03807\n",
       "5    | 2012-09-01 00:00:00 | 9/1/12 1:52  | 11.75    | 1    | -122.433 | 37.7841 | -122.411 | 37.787  | 77     | 7      | 0.960851\n",
       "6    | 2012-09-01 00:00:00 | 9/1/12 2:51  | 5.15     | 1    | -122.409 | 37.7856 | -122.412 | 37.791  | 7      | 29     | 0.414315\n",
       "7    | 2012-09-01 00:00:00 | 9/1/12 3:47  | 43.65    | 1    | -122.403 | 37.7927 | -122.386 | 37.6181 | 2      | 239    | 14.5105\n",
       "8    | 2012-09-01 00:00:00 | 9/1/12 0:57  | 46.75    | 1    | -122.387 | 37.6174 | -122.407 | 37.7889 | 239    | 5      | 14.2747\n",
       "9    | 2012-09-01 00:00:00 | 9/1/12 4:43  | 6.25     | 1    | -122.422 | 37.7977 | -122.418 | 37.789  | 34     | 31     | 0.685312\n",
       "10   | 2012-09-01 00:00:00 | 9/1/12 2:05  | 9.55     | 1    | -122.418 | 37.791  | -122.429 | 37.7724 | 32     | 81     | 1.59807\n",
       "... (46394 rows omitted)"
      ]
     },
     "execution_count": 17,
     "metadata": {},
     "output_type": "execute_result"
    }
   ],
   "source": [
    "refined_data"
   ]
  },
  {
   "cell_type": "code",
   "execution_count": 9,
   "metadata": {
    "collapsed": true
   },
   "outputs": [],
   "source": [
    "def parse_prefix(line, fmt):\n",
    "    try:\n",
    "        t = datetime.strptime(line, fmt)\n",
    "    except ValueError as v:\n",
    "        if len(v.args) > 0 and v.args[0].startswith('unconverted data remains: '):\n",
    "            line = line[:-(len(v.args[0]) - 26)]\n",
    "            t = datetime.strptime(line, fmt)\n",
    "        else:\n",
    "            raise\n",
    "    return t"
   ]
  },
  {
   "cell_type": "code",
   "execution_count": 20,
   "metadata": {},
   "outputs": [
    {
     "data": {
      "text/html": [
       "<table border=\"1\" class=\"dataframe\">\n",
       "    <thead>\n",
       "        <tr>\n",
       "            <th>id</th> <th>departure time</th> <th>arrival time</th> <th>fare ($)</th> <th>num</th> <th>dep lon</th> <th>dep lat</th> <th>arr lon</th> <th>arr lat</th> <th>deptaz</th> <th>arrtaz</th> <th>dist (miles)</th>\n",
       "        </tr>\n",
       "    </thead>\n",
       "    <tbody>\n",
       "        <tr>\n",
       "            <td>0   </td> <td>2012-09-01 00:00:00</td> <td>9/1/12 0:20 </td> <td>13.2    </td> <td>1   </td> <td>-122.414</td> <td>37.8027</td> <td>-122.421</td> <td>37.7854</td> <td>38    </td> <td>30    </td> <td>1.98084     </td>\n",
       "        </tr>\n",
       "    </tbody>\n",
       "        <tr>\n",
       "            <td>1   </td> <td>2012-09-01 00:00:00</td> <td>9/1/12 0:31 </td> <td>10.65   </td> <td>1   </td> <td>-122.42 </td> <td>37.7861</td> <td>-122.435</td> <td>37.7622</td> <td>30    </td> <td>94    </td> <td>2.40224     </td>\n",
       "        </tr>\n",
       "    </tbody>\n",
       "        <tr>\n",
       "            <td>2   </td> <td>2012-09-01 00:00:00</td> <td>9/1/12 0:49 </td> <td>9       </td> <td>1   </td> <td>-122.415</td> <td>37.7747</td> <td>-122.408</td> <td>37.7826</td> <td>10    </td> <td>11    </td> <td>0.479348    </td>\n",
       "        </tr>\n",
       "    </tbody>\n",
       "        <tr>\n",
       "            <td>4   </td> <td>2012-09-01 00:00:00</td> <td>9/1/12 1:13 </td> <td>7.35    </td> <td>1   </td> <td>-122.43 </td> <td>37.7978</td> <td>-122.418</td> <td>37.789 </td> <td>45    </td> <td>32    </td> <td>1.03807     </td>\n",
       "        </tr>\n",
       "    </tbody>\n",
       "        <tr>\n",
       "            <td>5   </td> <td>2012-09-01 00:00:00</td> <td>9/1/12 1:52 </td> <td>11.75   </td> <td>1   </td> <td>-122.433</td> <td>37.7841</td> <td>-122.411</td> <td>37.787 </td> <td>77    </td> <td>7     </td> <td>0.960851    </td>\n",
       "        </tr>\n",
       "    </tbody>\n",
       "        <tr>\n",
       "            <td>6   </td> <td>2012-09-01 00:00:00</td> <td>9/1/12 2:51 </td> <td>5.15    </td> <td>1   </td> <td>-122.409</td> <td>37.7856</td> <td>-122.412</td> <td>37.791 </td> <td>7     </td> <td>29    </td> <td>0.414315    </td>\n",
       "        </tr>\n",
       "    </tbody>\n",
       "        <tr>\n",
       "            <td>7   </td> <td>2012-09-01 00:00:00</td> <td>9/1/12 3:47 </td> <td>43.65   </td> <td>1   </td> <td>-122.403</td> <td>37.7927</td> <td>-122.386</td> <td>37.6181</td> <td>2     </td> <td>239   </td> <td>14.5105     </td>\n",
       "        </tr>\n",
       "    </tbody>\n",
       "        <tr>\n",
       "            <td>8   </td> <td>2012-09-01 00:00:00</td> <td>9/1/12 0:57 </td> <td>46.75   </td> <td>1   </td> <td>-122.387</td> <td>37.6174</td> <td>-122.407</td> <td>37.7889</td> <td>239   </td> <td>5     </td> <td>14.2747     </td>\n",
       "        </tr>\n",
       "    </tbody>\n",
       "        <tr>\n",
       "            <td>9   </td> <td>2012-09-01 00:00:00</td> <td>9/1/12 4:43 </td> <td>6.25    </td> <td>1   </td> <td>-122.422</td> <td>37.7977</td> <td>-122.418</td> <td>37.789 </td> <td>34    </td> <td>31    </td> <td>0.685312    </td>\n",
       "        </tr>\n",
       "    </tbody>\n",
       "        <tr>\n",
       "            <td>10  </td> <td>2012-09-01 00:00:00</td> <td>9/1/12 2:05 </td> <td>9.55    </td> <td>1   </td> <td>-122.418</td> <td>37.791 </td> <td>-122.429</td> <td>37.7724</td> <td>32    </td> <td>81    </td> <td>1.59807     </td>\n",
       "        </tr>\n",
       "    </tbody>\n",
       "</table>\n",
       "<p>... (46394 rows omitted)</p"
      ],
      "text/plain": [
       "id   | departure time      | arrival time | fare ($) | num  | dep lon  | dep lat | arr lon  | arr lat | deptaz | arrtaz | dist (miles)\n",
       "0    | 2012-09-01 00:00:00 | 9/1/12 0:20  | 13.2     | 1    | -122.414 | 37.8027 | -122.421 | 37.7854 | 38     | 30     | 1.98084\n",
       "1    | 2012-09-01 00:00:00 | 9/1/12 0:31  | 10.65    | 1    | -122.42  | 37.7861 | -122.435 | 37.7622 | 30     | 94     | 2.40224\n",
       "2    | 2012-09-01 00:00:00 | 9/1/12 0:49  | 9        | 1    | -122.415 | 37.7747 | -122.408 | 37.7826 | 10     | 11     | 0.479348\n",
       "4    | 2012-09-01 00:00:00 | 9/1/12 1:13  | 7.35     | 1    | -122.43  | 37.7978 | -122.418 | 37.789  | 45     | 32     | 1.03807\n",
       "5    | 2012-09-01 00:00:00 | 9/1/12 1:52  | 11.75    | 1    | -122.433 | 37.7841 | -122.411 | 37.787  | 77     | 7      | 0.960851\n",
       "6    | 2012-09-01 00:00:00 | 9/1/12 2:51  | 5.15     | 1    | -122.409 | 37.7856 | -122.412 | 37.791  | 7      | 29     | 0.414315\n",
       "7    | 2012-09-01 00:00:00 | 9/1/12 3:47  | 43.65    | 1    | -122.403 | 37.7927 | -122.386 | 37.6181 | 2      | 239    | 14.5105\n",
       "8    | 2012-09-01 00:00:00 | 9/1/12 0:57  | 46.75    | 1    | -122.387 | 37.6174 | -122.407 | 37.7889 | 239    | 5      | 14.2747\n",
       "9    | 2012-09-01 00:00:00 | 9/1/12 4:43  | 6.25     | 1    | -122.422 | 37.7977 | -122.418 | 37.789  | 34     | 31     | 0.685312\n",
       "10   | 2012-09-01 00:00:00 | 9/1/12 2:05  | 9.55     | 1    | -122.418 | 37.791  | -122.429 | 37.7724 | 32     | 81     | 1.59807\n",
       "... (46394 rows omitted)"
      ]
     },
     "execution_count": 20,
     "metadata": {},
     "output_type": "execute_result"
    }
   ],
   "source": [
    "#refined_data['departure time'] = refined_data.select(\"departure time\").apply(lambda x: parse_prefix(x[0],\"%m/%d/%y\"))\n",
    "refined_data"
   ]
  },
  {
   "cell_type": "code",
   "execution_count": 25,
   "metadata": {},
   "outputs": [],
   "source": [
    "training = refined_data.where(list(map(lambda x: x.day >= 1 and x.day <=10, refined_data[\"departure time\"])))\n",
    "training = training.where(list(map(lambda x: x.month == 9, training['departure time'])))"
   ]
  },
  {
   "cell_type": "code",
   "execution_count": 32,
   "metadata": {},
   "outputs": [],
   "source": [
    "simp_training = training.select('fare ($)', 'dist (miles)')"
   ]
  },
  {
   "cell_type": "code",
   "execution_count": 33,
   "metadata": {},
   "outputs": [
    {
     "data": {
      "text/html": [
       "<table border=\"1\" class=\"dataframe\">\n",
       "    <thead>\n",
       "        <tr>\n",
       "            <th>id</th> <th>departure time</th> <th>arrival time</th> <th>fare ($)</th> <th>num</th> <th>dep lon</th> <th>dep lat</th> <th>arr lon</th> <th>arr lat</th> <th>deptaz</th> <th>arrtaz</th> <th>dist (miles)</th>\n",
       "        </tr>\n",
       "    </thead>\n",
       "    <tbody>\n",
       "        <tr>\n",
       "            <td>28322</td> <td>2012-09-11 00:00:00</td> <td>9/11/12 1:12</td> <td>45.65   </td> <td>1   </td> <td>-122.386</td> <td>37.6173</td> <td>-122.401</td> <td>37.795 </td> <td>239   </td> <td>24    </td> <td>14.7033     </td>\n",
       "        </tr>\n",
       "    </tbody>\n",
       "        <tr>\n",
       "            <td>28351</td> <td>2012-09-11 00:00:00</td> <td>9/11/12 0:34</td> <td>7.9     </td> <td>1   </td> <td>-122.4  </td> <td>37.7943</td> <td>-122.412</td> <td>37.7878</td> <td>22    </td> <td>7     </td> <td>1.18652     </td>\n",
       "        </tr>\n",
       "    </tbody>\n",
       "        <tr>\n",
       "            <td>28359</td> <td>2012-09-11 00:00:00</td> <td>9/11/12 0:18</td> <td>7.9     </td> <td>1   </td> <td>-122.421</td> <td>37.765 </td> <td>-122.438</td> <td>37.7742</td> <td>106   </td> <td>85    </td> <td>1.33785     </td>\n",
       "        </tr>\n",
       "    </tbody>\n",
       "        <tr>\n",
       "            <td>28360</td> <td>2012-09-11 00:00:00</td> <td>9/11/12 0:29</td> <td>9.55    </td> <td>1   </td> <td>-122.438</td> <td>37.7775</td> <td>-122.435</td> <td>37.797 </td> <td>86    </td> <td>45    </td> <td>1.82918     </td>\n",
       "        </tr>\n",
       "    </tbody>\n",
       "        <tr>\n",
       "            <td>28418</td> <td>2012-09-11 00:00:00</td> <td>9/11/12 0:16</td> <td>9.55    </td> <td>1   </td> <td>-122.4  </td> <td>37.7906</td> <td>-122.421</td> <td>37.7927</td> <td>4     </td> <td>33    </td> <td>1.31748     </td>\n",
       "        </tr>\n",
       "    </tbody>\n",
       "        <tr>\n",
       "            <td>28463</td> <td>2012-09-11 00:00:00</td> <td>9/11/12 4:40</td> <td>9.25    </td> <td>1   </td> <td>-122.429</td> <td>37.7666</td> <td>-122.443</td> <td>37.7652</td> <td>104   </td> <td>83    </td> <td>0.797884    </td>\n",
       "        </tr>\n",
       "    </tbody>\n",
       "        <tr>\n",
       "            <td>28495</td> <td>2012-09-11 00:00:00</td> <td>9/11/12 5:24</td> <td>51.06   </td> <td>1   </td> <td>-122.436</td> <td>37.7649</td> <td>-122.384</td> <td>37.6156</td> <td>83    </td> <td>239   </td> <td>14.0658     </td>\n",
       "        </tr>\n",
       "    </tbody>\n",
       "        <tr>\n",
       "            <td>28496</td> <td>2012-09-11 00:00:00</td> <td>9/11/12 5:49</td> <td>16.7    </td> <td>1   </td> <td>-122.466</td> <td>37.7867</td> <td>-122.395</td> <td>37.7944</td> <td>65    </td> <td>22    </td> <td>4.08424     </td>\n",
       "        </tr>\n",
       "    </tbody>\n",
       "        <tr>\n",
       "            <td>28522</td> <td>2012-09-11 00:00:00</td> <td>9/11/12 4:36</td> <td>18.35   </td> <td>1   </td> <td>-122.399</td> <td>37.7764</td> <td>-122.432</td> <td>37.7318</td> <td>18    </td> <td>134   </td> <td>4.61251     </td>\n",
       "        </tr>\n",
       "    </tbody>\n",
       "        <tr>\n",
       "            <td>28526</td> <td>2012-09-11 00:00:00</td> <td>9/11/12 2:03</td> <td>9.55    </td> <td>1   </td> <td>-122.406</td> <td>37.7976</td> <td>-122.393</td> <td>37.7765</td> <td>37    </td> <td>109   </td> <td>2.15043     </td>\n",
       "        </tr>\n",
       "    </tbody>\n",
       "</table>\n",
       "<p>... (12142 rows omitted)</p"
      ],
      "text/plain": [
       "id    | departure time      | arrival time | fare ($) | num  | dep lon  | dep lat | arr lon  | arr lat | deptaz | arrtaz | dist (miles)\n",
       "28322 | 2012-09-11 00:00:00 | 9/11/12 1:12 | 45.65    | 1    | -122.386 | 37.6173 | -122.401 | 37.795  | 239    | 24     | 14.7033\n",
       "28351 | 2012-09-11 00:00:00 | 9/11/12 0:34 | 7.9      | 1    | -122.4   | 37.7943 | -122.412 | 37.7878 | 22     | 7      | 1.18652\n",
       "28359 | 2012-09-11 00:00:00 | 9/11/12 0:18 | 7.9      | 1    | -122.421 | 37.765  | -122.438 | 37.7742 | 106    | 85     | 1.33785\n",
       "28360 | 2012-09-11 00:00:00 | 9/11/12 0:29 | 9.55     | 1    | -122.438 | 37.7775 | -122.435 | 37.797  | 86     | 45     | 1.82918\n",
       "28418 | 2012-09-11 00:00:00 | 9/11/12 0:16 | 9.55     | 1    | -122.4   | 37.7906 | -122.421 | 37.7927 | 4      | 33     | 1.31748\n",
       "28463 | 2012-09-11 00:00:00 | 9/11/12 4:40 | 9.25     | 1    | -122.429 | 37.7666 | -122.443 | 37.7652 | 104    | 83     | 0.797884\n",
       "28495 | 2012-09-11 00:00:00 | 9/11/12 5:24 | 51.06    | 1    | -122.436 | 37.7649 | -122.384 | 37.6156 | 83     | 239    | 14.0658\n",
       "28496 | 2012-09-11 00:00:00 | 9/11/12 5:49 | 16.7     | 1    | -122.466 | 37.7867 | -122.395 | 37.7944 | 65     | 22     | 4.08424\n",
       "28522 | 2012-09-11 00:00:00 | 9/11/12 4:36 | 18.35    | 1    | -122.399 | 37.7764 | -122.432 | 37.7318 | 18     | 134    | 4.61251\n",
       "28526 | 2012-09-11 00:00:00 | 9/11/12 2:03 | 9.55     | 1    | -122.406 | 37.7976 | -122.393 | 37.7765 | 37     | 109    | 2.15043\n",
       "... (12142 rows omitted)"
      ]
     },
     "execution_count": 33,
     "metadata": {},
     "output_type": "execute_result"
    }
   ],
   "source": [
    "testing = refined_data.where(list(map(lambda x: x.day >= 11 and x.day <=17, refined_data[\"departure time\"])))\n",
    "testing"
   ]
  },
  {
   "cell_type": "code",
   "execution_count": 56,
   "metadata": {
    "collapsed": true
   },
   "outputs": [],
   "source": [
    "simp_testing = testing.select('fare ($)', 'dist (miles)')"
   ]
  },
  {
   "cell_type": "code",
   "execution_count": 57,
   "metadata": {},
   "outputs": [],
   "source": [
    "#fitting linear regression \n",
    "def norm(table, label):\n",
    "    return (table.column(label) - np.mean(table.column(label))) / np.std(table.column(label))\n",
    "\n",
    "norm_x = norm(simp_training, 'dist (miles)')\n",
    "norm_y = norm(simp_training, 'fare ($)')\n",
    "norm_training = Table().with_column('norm x', norm_x, 'norm y', norm_y)\n",
    "norm_xt = norm(simp_testing, 'dist (miles)')\n",
    "norm_yt = norm(simp_testing, 'fare ($)')\n",
    "norm_testing = Table().with_column('norm x', norm_xt, 'norm y', norm_yt)"
   ]
  },
  {
   "cell_type": "code",
   "execution_count": 43,
   "metadata": {},
   "outputs": [],
   "source": [
    "correlation = np.mean(norm_training.column(0) * norm_training.column(1))\n",
    "slope = correlation * (np.std(simp_training.column('fare ($)')) / np.std(simp_training.column('dist (miles)')))\n",
    "intercept = np.mean(simp_training.column('fare ($)')) - slope * np.mean(simp_training.column('dist (miles)'))"
   ]
  },
  {
   "cell_type": "code",
   "execution_count": 106,
   "metadata": {},
   "outputs": [
    {
     "data": {
      "text/plain": [
       "Text(0.5,1,'predicting prices')"
      ]
     },
     "execution_count": 106,
     "metadata": {},
     "output_type": "execute_result"
    },
    {
     "data": {
      "image/png": "[encoded data removed]",
      "text/plain": [
       "<matplotlib.figure.Figure at 0x1a0f736278>"
      ]
     },
     "metadata": {},
     "output_type": "display_data"
    }
   ],
   "source": [
    "prediction = slope * simp_training.column('dist (miles)') + intercept\n",
    "simp_training = simp_training.with_column('prediction', prediction )\n",
    "simp_training.scatter('dist (miles)')\n",
    "plt.xlabel(\"distance (miles)\")\n",
    "plt.ylabel(\"fare ($)\")\n",
    "plt.title(\"predicting prices\")"
   ]
  },
  {
   "cell_type": "code",
   "execution_count": 54,
   "metadata": {},
   "outputs": [
    {
     "data": {
      "text/plain": [
       "5.0049333071515694"
      ]
     },
     "execution_count": 54,
     "metadata": {},
     "output_type": "execute_result"
    }
   ],
   "source": [
    "error = simp_training.column('fare ($)') - prediction\n",
    "rmse = np.sqrt(np.mean(error**2))\n",
    "rmse"
   ]
  },
  {
   "cell_type": "code",
   "execution_count": 94,
   "metadata": {},
   "outputs": [
    {
     "data": {
      "image/png": "[encoded data removed]",
      "text/plain": [
       "<matplotlib.figure.Figure at 0x1a111e2a58>"
      ]
     },
     "metadata": {},
     "output_type": "display_data"
    }
   ],
   "source": [
    "res_simp_training = simp_training.with_column('residuals', error)\n",
    "res_simp_training.scatter('dist (miles)','residuals' )"
   ]
  },
  {
   "cell_type": "markdown",
   "metadata": {},
   "source": [
    "## k-NN"
   ]
  },
  {
   "cell_type": "code",
   "execution_count": 60,
   "metadata": {},
   "outputs": [
    {
     "data": {
      "text/plain": [
       "array([[-0.35303905],\n",
       "       [-0.26111667],\n",
       "       [-0.68056226],\n",
       "       ..., \n",
       "       [-0.36109767],\n",
       "       [-0.54659323],\n",
       "       [ 0.45196022]])"
      ]
     },
     "execution_count": 60,
     "metadata": {},
     "output_type": "execute_result"
    }
   ],
   "source": [
    "def distance(x,y):\n",
    "    return np.abs(x - y)\n",
    "x = norm_training.select('norm x').values\n",
    "x"
   ]
  },
  {
   "cell_type": "code",
   "execution_count": 65,
   "metadata": {},
   "outputs": [
    {
     "data": {
      "text/plain": [
       "array([[ 2.66647264,  2.57455026,  2.99399585, ...,  2.67453126,\n",
       "         2.86002682,  1.86147337],\n",
       "       [ 0.18453104,  0.27645342,  0.14299217, ...,  0.17647242,\n",
       "         0.00902314,  0.98953031],\n",
       "       [ 0.15261176,  0.24453414,  0.17491146, ...,  0.14455313,\n",
       "         0.04094242,  0.95761103],\n",
       "       ..., \n",
       "       [ 0.31963165,  0.41155403,  0.00789156, ...,  0.31157303,\n",
       "         0.12607747,  1.12463092],\n",
       "       [ 2.54659615,  2.45467377,  2.87411936, ...,  2.55465477,\n",
       "         2.74015033,  1.74159688],\n",
       "       [ 0.01602628,  0.07589611,  0.34354949, ...,  0.0240849 ,\n",
       "         0.20958046,  0.788973  ]])"
      ]
     },
     "execution_count": 65,
     "metadata": {},
     "output_type": "execute_result"
    }
   ],
   "source": [
    "test_distance = np.zeros([norm_testing.num_rows, norm_training.num_rows])\n",
    "for i in np.arange(norm_testing.num_rows):\n",
    "    x = norm_training.select('norm x').values\n",
    "    xt = norm_testing.select('norm x').values[i,:]\n",
    "    test_distance[i,:] = np.sqrt(np.sum((x - xt)**2,  axis = 1))\n",
    "    \n",
    "test_distance"
   ]
  },
  {
   "cell_type": "code",
   "execution_count": 66,
   "metadata": {},
   "outputs": [
    {
     "data": {
      "text/plain": [
       "array([16213,  2370,  4787, ..., 30316, 28524, 30541])"
      ]
     },
     "execution_count": 66,
     "metadata": {},
     "output_type": "execute_result"
    }
   ],
   "source": [
    "sorted_test_distancek1 = np.argsort(test_distance, 1)[:,0]\n",
    "sorted_test_distancek1 #the indexes of the fares "
   ]
  },
  {
   "cell_type": "code",
   "execution_count": 71,
   "metadata": {},
   "outputs": [
    {
     "data": {
      "text/plain": [
       "array([ 44.2 ,   9.  ,  10.65, ...,  10.1 ,  56.95,  11.75])"
      ]
     },
     "execution_count": 71,
     "metadata": {},
     "output_type": "execute_result"
    }
   ],
   "source": [
    "labels_k1 = simp_training.column('fare ($)')[sorted_test_distancek1]\n",
    "labels_k1 #this is wrong idk man "
   ]
  },
  {
   "cell_type": "code",
   "execution_count": 75,
   "metadata": {},
   "outputs": [
    {
     "data": {
      "text/plain": [
       "0.05579328505595787"
      ]
     },
     "execution_count": 75,
     "metadata": {},
     "output_type": "execute_result"
    }
   ],
   "source": [
    "accuracyk1 = np.count_nonzero(labels_k1 == testing.column('fare ($)'))/testing.num_rows\n",
    "accuracyk1"
   ]
  },
  {
   "cell_type": "code",
   "execution_count": 86,
   "metadata": {},
   "outputs": [
    {
     "data": {
      "text/plain": [
       "array([[16213,  5069, 24126, 26520, 31513],\n",
       "       [ 2370, 10369, 32807, 33250, 30286],\n",
       "       [ 4787, 24192, 16895, 19243, 18871],\n",
       "       ..., \n",
       "       [30316, 16891, 29148, 32116,  8526],\n",
       "       [28524, 33477, 18459, 23758, 14088],\n",
       "       [30541, 33030, 11816, 16066, 23936]])"
      ]
     },
     "execution_count": 86,
     "metadata": {},
     "output_type": "execute_result"
    }
   ],
   "source": [
    "sorted_test_distancek5 = np.argsort(test_distance, 1)[:,np.arange(0,5)]\n",
    "sorted_test_distancek5"
   ]
  },
  {
   "cell_type": "code",
   "execution_count": 99,
   "metadata": {},
   "outputs": [
    {
     "ename": "TypeError",
     "evalue": "Cannot cast array data from dtype('float64') to dtype('int64') according to the rule 'safe'",
     "output_type": "error",
     "traceback": [
      "\u001b[0;31m---------------------------------------------------------------------------\u001b[0m",
      "\u001b[0;31mTypeError\u001b[0m                                 Traceback (most recent call last)",
      "\u001b[0;32m<ipython-input-99-d3d4cc39ab88>\u001b[0m in \u001b[0;36m<module>\u001b[0;34m()\u001b[0m\n\u001b[1;32m      2\u001b[0m \u001b[0mlabels_k5\u001b[0m \u001b[0;34m=\u001b[0m \u001b[0mnp\u001b[0m\u001b[0;34m.\u001b[0m\u001b[0mzeros\u001b[0m\u001b[0;34m(\u001b[0m\u001b[0mlen\u001b[0m\u001b[0;34m(\u001b[0m\u001b[0mk5\u001b[0m\u001b[0;34m)\u001b[0m\u001b[0;34m)\u001b[0m\u001b[0;34m\u001b[0m\u001b[0m\n\u001b[1;32m      3\u001b[0m \u001b[0;32mfor\u001b[0m \u001b[0mi\u001b[0m \u001b[0;32min\u001b[0m \u001b[0mnp\u001b[0m\u001b[0;34m.\u001b[0m\u001b[0marange\u001b[0m\u001b[0;34m(\u001b[0m\u001b[0mlen\u001b[0m\u001b[0;34m(\u001b[0m\u001b[0mk5\u001b[0m\u001b[0;34m)\u001b[0m\u001b[0;34m)\u001b[0m\u001b[0;34m:\u001b[0m\u001b[0;34m\u001b[0m\u001b[0m\n\u001b[0;32m----> 4\u001b[0;31m     \u001b[0mcount\u001b[0m \u001b[0;34m=\u001b[0m \u001b[0mnp\u001b[0m\u001b[0;34m.\u001b[0m\u001b[0margmax\u001b[0m\u001b[0;34m(\u001b[0m\u001b[0mnp\u001b[0m\u001b[0;34m.\u001b[0m\u001b[0mbincount\u001b[0m\u001b[0;34m(\u001b[0m\u001b[0mk5\u001b[0m\u001b[0;34m[\u001b[0m\u001b[0mi\u001b[0m\u001b[0;34m,\u001b[0m\u001b[0;34m:\u001b[0m\u001b[0;34m]\u001b[0m\u001b[0;34m)\u001b[0m\u001b[0;34m)\u001b[0m\u001b[0;34m\u001b[0m\u001b[0m\n\u001b[0m\u001b[1;32m      5\u001b[0m     \u001b[0mlabels_k5\u001b[0m\u001b[0;34m[\u001b[0m\u001b[0mi\u001b[0m\u001b[0;34m]\u001b[0m \u001b[0;34m=\u001b[0m \u001b[0mcount\u001b[0m\u001b[0;34m\u001b[0m\u001b[0m\n\u001b[1;32m      6\u001b[0m \u001b[0mlabels_k5\u001b[0m\u001b[0;34m\u001b[0m\u001b[0m\n",
      "\u001b[0;31mTypeError\u001b[0m: Cannot cast array data from dtype('float64') to dtype('int64') according to the rule 'safe'"
     ]
    }
   ],
   "source": [
    "k5 = training.column('fare ($)')[sorted_test_distancek5]\n",
    "labels_k5 = np.zeros(len(k5))\n",
    "for i in np.arange(len(k5)):\n",
    "    count = np.argmax(np.bincount(k5[i,:]))\n",
    "    labels_k5[i] = count\n",
    "labels_k5"
   ]
  },
  {
   "cell_type": "code",
   "execution_count": 81,
   "metadata": {},
   "outputs": [
    {
     "data": {
      "text/plain": [
       "0.0"
      ]
     },
     "execution_count": 81,
     "metadata": {},
     "output_type": "execute_result"
    }
   ],
   "source": [
    "accuracyk3 = np.count_nonzero(labels_k3 == testing.column('fare ($)'))/testing.num_rows\n",
    "accuracyk3"
   ]
  },
  {
   "cell_type": "code",
   "execution_count": 89,
   "metadata": {},
   "outputs": [
    {
     "data": {
      "text/plain": [
       "array([[16213,  5069, 24126, ..., 23170, 14358,  9644],\n",
       "       [ 2370, 10369, 32807, ...,  2862, 21987, 16057],\n",
       "       [ 4787, 24192, 16895, ..., 24379,  6879,  7427],\n",
       "       ..., \n",
       "       [30316, 16891, 29148, ..., 32924, 31342, 32452],\n",
       "       [28524, 33477, 18459, ..., 20111, 31025, 25863],\n",
       "       [30541, 33030, 11816, ..., 16749, 29342, 20757]])"
      ]
     },
     "execution_count": 89,
     "metadata": {},
     "output_type": "execute_result"
    }
   ],
   "source": [
    "sorted_test_distancek10 = np.argsort(test_distance, 1)[:,np.arange(0,10)]\n",
    "sorted_test_distancek10"
   ]
  },
  {
   "cell_type": "code",
   "execution_count": 90,
   "metadata": {},
   "outputs": [
    {
     "ename": "TypeError",
     "evalue": "Cannot cast array data from dtype('float64') to dtype('int64') according to the rule 'safe'",
     "output_type": "error",
     "traceback": [
      "\u001b[0;31m---------------------------------------------------------------------------\u001b[0m",
      "\u001b[0;31mTypeError\u001b[0m                                 Traceback (most recent call last)",
      "\u001b[0;32m<ipython-input-90-5be74017b8a2>\u001b[0m in \u001b[0;36m<module>\u001b[0;34m()\u001b[0m\n\u001b[1;32m      2\u001b[0m \u001b[0mlabels_k10\u001b[0m \u001b[0;34m=\u001b[0m \u001b[0mnp\u001b[0m\u001b[0;34m.\u001b[0m\u001b[0mzeros\u001b[0m\u001b[0;34m(\u001b[0m\u001b[0mlen\u001b[0m\u001b[0;34m(\u001b[0m\u001b[0mk10\u001b[0m\u001b[0;34m)\u001b[0m\u001b[0;34m)\u001b[0m\u001b[0;34m\u001b[0m\u001b[0m\n\u001b[1;32m      3\u001b[0m \u001b[0;32mfor\u001b[0m \u001b[0mi\u001b[0m \u001b[0;32min\u001b[0m \u001b[0mnp\u001b[0m\u001b[0;34m.\u001b[0m\u001b[0marange\u001b[0m\u001b[0;34m(\u001b[0m\u001b[0mlen\u001b[0m\u001b[0;34m(\u001b[0m\u001b[0mk10\u001b[0m\u001b[0;34m)\u001b[0m\u001b[0;34m)\u001b[0m\u001b[0;34m:\u001b[0m\u001b[0;34m\u001b[0m\u001b[0m\n\u001b[0;32m----> 4\u001b[0;31m     \u001b[0mcount\u001b[0m \u001b[0;34m=\u001b[0m \u001b[0mnp\u001b[0m\u001b[0;34m.\u001b[0m\u001b[0margmax\u001b[0m\u001b[0;34m(\u001b[0m\u001b[0mnp\u001b[0m\u001b[0;34m.\u001b[0m\u001b[0mbincount\u001b[0m\u001b[0;34m(\u001b[0m\u001b[0mk10\u001b[0m\u001b[0;34m[\u001b[0m\u001b[0mi\u001b[0m\u001b[0;34m,\u001b[0m\u001b[0;34m:\u001b[0m\u001b[0;34m]\u001b[0m\u001b[0;34m)\u001b[0m\u001b[0;34m)\u001b[0m\u001b[0;34m\u001b[0m\u001b[0m\n\u001b[0m\u001b[1;32m      5\u001b[0m     \u001b[0mlabels_k10\u001b[0m\u001b[0;34m[\u001b[0m\u001b[0mi\u001b[0m\u001b[0;34m]\u001b[0m \u001b[0;34m=\u001b[0m \u001b[0mcount\u001b[0m\u001b[0;34m\u001b[0m\u001b[0m\n\u001b[1;32m      6\u001b[0m \u001b[0mlabels_k10\u001b[0m\u001b[0;34m\u001b[0m\u001b[0m\n",
      "\u001b[0;31mTypeError\u001b[0m: Cannot cast array data from dtype('float64') to dtype('int64') according to the rule 'safe'"
     ]
    }
   ],
   "source": [
    "k10 = training.column('fare ($)')[sorted_test_distancek10]\n",
    "labels_k10 = np.zeros(len(k10))\n",
    "for i in np.arange(len(k10)):\n",
    "    count = np.argmax(np.bincount(k10[i,:]))\n",
    "    labels_k10[i] = count\n",
    "labels_k10"
   ]
  },
  {
   "cell_type": "code",
   "execution_count": 98,
   "metadata": {},
   "outputs": [
    {
     "data": {
      "text/plain": [
       "0.0"
      ]
     },
     "execution_count": 98,
     "metadata": {},
     "output_type": "execute_result"
    }
   ],
   "source": [
    "accuracyk10 = np.count_nonzero(labels_k10 == testing.column('fare ($)'))/testing.num_rows\n",
    "accuracyk10"
   ]
  },
  {
   "cell_type": "code",
   "execution_count": 97,
   "metadata": {},
   "outputs": [],
   "source": [
    "#which method is better and why:\n",
    "# based on the residual plot and correclation, \n",
    "#it seems to be that linear regression is not the most appropriate model\n",
    "#for predicting data in this scenario. There is a pattern in the residual plot \n",
    "#even though the correlation coefficient was realtively high (0.902)\n"
   ]
  },
  {
   "cell_type": "code",
   "execution_count": 96,
   "metadata": {
    "collapsed": true
   },
   "outputs": [],
   "source": [
    "#what happens as K gets larger:\n",
    "#as K increases, the accuracy of the prediction (performance of the classifier) becomes higher. \n",
    "#This makes sense since we are taking into account more data every time and comapring the values with more training values."
   ]
  },
  {
   "cell_type": "code",
   "execution_count": null,
   "metadata": {
    "collapsed": true
   },
   "outputs": [],
   "source": []
  }
 ],
 "metadata": {
  "kernelspec": {
   "display_name": "Python 3",
   "language": "python",
   "name": "python3"
  },
  "language_info": {
   "codemirror_mode": {
    "name": "ipython",
    "version": 3
   },
   "file_extension": ".py",
   "mimetype": "text/x-python",
   "name": "python",
   "nbconvert_exporter": "python",
   "pygments_lexer": "ipython3",
   "version": "3.6.3"
  }
 },
 "nbformat": 4,
 "nbformat_minor": 2
}
