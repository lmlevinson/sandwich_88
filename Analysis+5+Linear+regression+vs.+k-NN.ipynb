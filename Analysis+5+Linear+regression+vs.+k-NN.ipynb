{
 "cells": [
  {
   "cell_type": "markdown",
   "metadata": {},
   "source": [
    "Analysis 5. Take the data of fares and distances from day 1 to day 10 of September as training data, and\n",
    "data from day 11 to day 17 as testing data. Apply both linear regression and k-nearest neighbor (with\n",
    "k = {1, 5, 10}) to identify the fares in the testing data given the distances and compare the results. Which\n",
    "method is better and why? What is the difference between performance of k-NN with different values of k?"
   ]
  },
  {
   "cell_type": "code",
   "execution_count": 3,
   "metadata": {},
   "outputs": [],
   "source": [
    "from datascience import *\n",
    "import numpy as np\n",
    "import matplotlib.pyplot as plt\n",
    "import warnings\n",
    "warnings.filterwarnings('ignore')\n",
    "%matplotlib inline\n",
    "import seaborn\n",
    "from datetime import datetime\n",
    "seaborn.set_context(rc={'lines.markeredgewidth': 1.0})\n",
    "%matplotlib inline"
   ]
  },
  {
   "cell_type": "code",
   "execution_count": 4,
   "metadata": {},
   "outputs": [],
   "source": [
    "taxi = Table().read_table(\"SF_taxi_data.csv\")\n",
    "refined_data = taxi.where(\"num\", 1).where(\"fare ($)\", are.above(3.5))"
   ]
  },
  {
   "cell_type": "code",
   "execution_count": 5,
   "metadata": {},
   "outputs": [
    {
     "data": {
      "text/html": [
       "<table border=\"1\" class=\"dataframe\">\n",
       "    <thead>\n",
       "        <tr>\n",
       "            <th>id</th> <th>departure time</th> <th>arrival time</th> <th>fare ($)</th> <th>num</th> <th>dep lon</th> <th>dep lat</th> <th>arr lon</th> <th>arr lat</th> <th>deptaz</th> <th>arrtaz</th> <th>dist (miles)</th>\n",
       "        </tr>\n",
       "    </thead>\n",
       "    <tbody>\n",
       "        <tr>\n",
       "            <td>0   </td> <td>9/1/12 0:11   </td> <td>9/1/12 0:20 </td> <td>13.2    </td> <td>1   </td> <td>-122.414</td> <td>37.8027</td> <td>-122.421</td> <td>37.7854</td> <td>38    </td> <td>30    </td> <td>1.98084     </td>\n",
       "        </tr>\n",
       "    </tbody>\n",
       "        <tr>\n",
       "            <td>1   </td> <td>9/1/12 0:23   </td> <td>9/1/12 0:31 </td> <td>10.65   </td> <td>1   </td> <td>-122.42 </td> <td>37.7861</td> <td>-122.435</td> <td>37.7622</td> <td>30    </td> <td>94    </td> <td>2.40224     </td>\n",
       "        </tr>\n",
       "    </tbody>\n",
       "        <tr>\n",
       "            <td>2   </td> <td>9/1/12 0:45   </td> <td>9/1/12 0:49 </td> <td>9       </td> <td>1   </td> <td>-122.415</td> <td>37.7747</td> <td>-122.408</td> <td>37.7826</td> <td>10    </td> <td>11    </td> <td>0.479348    </td>\n",
       "        </tr>\n",
       "    </tbody>\n",
       "        <tr>\n",
       "            <td>4   </td> <td>9/1/12 1:09   </td> <td>9/1/12 1:13 </td> <td>7.35    </td> <td>1   </td> <td>-122.43 </td> <td>37.7978</td> <td>-122.418</td> <td>37.789 </td> <td>45    </td> <td>32    </td> <td>1.03807     </td>\n",
       "        </tr>\n",
       "    </tbody>\n",
       "        <tr>\n",
       "            <td>5   </td> <td>9/1/12 1:40   </td> <td>9/1/12 1:52 </td> <td>11.75   </td> <td>1   </td> <td>-122.433</td> <td>37.7841</td> <td>-122.411</td> <td>37.787 </td> <td>77    </td> <td>7     </td> <td>0.960851    </td>\n",
       "        </tr>\n",
       "    </tbody>\n",
       "        <tr>\n",
       "            <td>6   </td> <td>9/1/12 2:49   </td> <td>9/1/12 2:51 </td> <td>5.15    </td> <td>1   </td> <td>-122.409</td> <td>37.7856</td> <td>-122.412</td> <td>37.791 </td> <td>7     </td> <td>29    </td> <td>0.414315    </td>\n",
       "        </tr>\n",
       "    </tbody>\n",
       "        <tr>\n",
       "            <td>7   </td> <td>9/1/12 3:29   </td> <td>9/1/12 3:47 </td> <td>43.65   </td> <td>1   </td> <td>-122.403</td> <td>37.7927</td> <td>-122.386</td> <td>37.6181</td> <td>2     </td> <td>239   </td> <td>14.5105     </td>\n",
       "        </tr>\n",
       "    </tbody>\n",
       "        <tr>\n",
       "            <td>8   </td> <td>9/1/12 0:33   </td> <td>9/1/12 0:57 </td> <td>46.75   </td> <td>1   </td> <td>-122.387</td> <td>37.6174</td> <td>-122.407</td> <td>37.7889</td> <td>239   </td> <td>5     </td> <td>14.2747     </td>\n",
       "        </tr>\n",
       "    </tbody>\n",
       "        <tr>\n",
       "            <td>9   </td> <td>9/1/12 4:39   </td> <td>9/1/12 4:43 </td> <td>6.25    </td> <td>1   </td> <td>-122.422</td> <td>37.7977</td> <td>-122.418</td> <td>37.789 </td> <td>34    </td> <td>31    </td> <td>0.685312    </td>\n",
       "        </tr>\n",
       "    </tbody>\n",
       "        <tr>\n",
       "            <td>10  </td> <td>9/1/12 1:59   </td> <td>9/1/12 2:05 </td> <td>9.55    </td> <td>1   </td> <td>-122.418</td> <td>37.791 </td> <td>-122.429</td> <td>37.7724</td> <td>32    </td> <td>81    </td> <td>1.59807     </td>\n",
       "        </tr>\n",
       "    </tbody>\n",
       "</table>\n",
       "<p>... (46394 rows omitted)</p"
      ],
      "text/plain": [
       "id   | departure time | arrival time | fare ($) | num  | dep lon  | dep lat | arr lon  | arr lat | deptaz | arrtaz | dist (miles)\n",
       "0    | 9/1/12 0:11    | 9/1/12 0:20  | 13.2     | 1    | -122.414 | 37.8027 | -122.421 | 37.7854 | 38     | 30     | 1.98084\n",
       "1    | 9/1/12 0:23    | 9/1/12 0:31  | 10.65    | 1    | -122.42  | 37.7861 | -122.435 | 37.7622 | 30     | 94     | 2.40224\n",
       "2    | 9/1/12 0:45    | 9/1/12 0:49  | 9        | 1    | -122.415 | 37.7747 | -122.408 | 37.7826 | 10     | 11     | 0.479348\n",
       "4    | 9/1/12 1:09    | 9/1/12 1:13  | 7.35     | 1    | -122.43  | 37.7978 | -122.418 | 37.789  | 45     | 32     | 1.03807\n",
       "5    | 9/1/12 1:40    | 9/1/12 1:52  | 11.75    | 1    | -122.433 | 37.7841 | -122.411 | 37.787  | 77     | 7      | 0.960851\n",
       "6    | 9/1/12 2:49    | 9/1/12 2:51  | 5.15     | 1    | -122.409 | 37.7856 | -122.412 | 37.791  | 7      | 29     | 0.414315\n",
       "7    | 9/1/12 3:29    | 9/1/12 3:47  | 43.65    | 1    | -122.403 | 37.7927 | -122.386 | 37.6181 | 2      | 239    | 14.5105\n",
       "8    | 9/1/12 0:33    | 9/1/12 0:57  | 46.75    | 1    | -122.387 | 37.6174 | -122.407 | 37.7889 | 239    | 5      | 14.2747\n",
       "9    | 9/1/12 4:39    | 9/1/12 4:43  | 6.25     | 1    | -122.422 | 37.7977 | -122.418 | 37.789  | 34     | 31     | 0.685312\n",
       "10   | 9/1/12 1:59    | 9/1/12 2:05  | 9.55     | 1    | -122.418 | 37.791  | -122.429 | 37.7724 | 32     | 81     | 1.59807\n",
       "... (46394 rows omitted)"
      ]
     },
     "execution_count": 5,
     "metadata": {},
     "output_type": "execute_result"
    }
   ],
   "source": [
    "refined_data"
   ]
  },
  {
   "cell_type": "code",
   "execution_count": 6,
   "metadata": {},
   "outputs": [],
   "source": [
    "def parse_prefix(line, fmt):\n",
    "    try:\n",
    "        t = datetime.strptime(line, fmt)\n",
    "    except ValueError as v:\n",
    "        if len(v.args) > 0 and v.args[0].startswith('unconverted data remains: '):\n",
    "            line = line[:-(len(v.args[0]) - 26)]\n",
    "            t = datetime.strptime(line, fmt)\n",
    "        else:\n",
    "            raise\n",
    "    return t"
   ]
  },
  {
   "cell_type": "code",
   "execution_count": 7,
   "metadata": {},
   "outputs": [
    {
     "data": {
      "text/html": [
       "<table border=\"1\" class=\"dataframe\">\n",
       "    <thead>\n",
       "        <tr>\n",
       "            <th>id</th> <th>departure time</th> <th>arrival time</th> <th>fare ($)</th> <th>num</th> <th>dep lon</th> <th>dep lat</th> <th>arr lon</th> <th>arr lat</th> <th>deptaz</th> <th>arrtaz</th> <th>dist (miles)</th>\n",
       "        </tr>\n",
       "    </thead>\n",
       "    <tbody>\n",
       "        <tr>\n",
       "            <td>0   </td> <td>2012-09-01 00:00:00</td> <td>9/1/12 0:20 </td> <td>13.2    </td> <td>1   </td> <td>-122.414</td> <td>37.8027</td> <td>-122.421</td> <td>37.7854</td> <td>38    </td> <td>30    </td> <td>1.98084     </td>\n",
       "        </tr>\n",
       "    </tbody>\n",
       "        <tr>\n",
       "            <td>1   </td> <td>2012-09-01 00:00:00</td> <td>9/1/12 0:31 </td> <td>10.65   </td> <td>1   </td> <td>-122.42 </td> <td>37.7861</td> <td>-122.435</td> <td>37.7622</td> <td>30    </td> <td>94    </td> <td>2.40224     </td>\n",
       "        </tr>\n",
       "    </tbody>\n",
       "        <tr>\n",
       "            <td>2   </td> <td>2012-09-01 00:00:00</td> <td>9/1/12 0:49 </td> <td>9       </td> <td>1   </td> <td>-122.415</td> <td>37.7747</td> <td>-122.408</td> <td>37.7826</td> <td>10    </td> <td>11    </td> <td>0.479348    </td>\n",
       "        </tr>\n",
       "    </tbody>\n",
       "        <tr>\n",
       "            <td>4   </td> <td>2012-09-01 00:00:00</td> <td>9/1/12 1:13 </td> <td>7.35    </td> <td>1   </td> <td>-122.43 </td> <td>37.7978</td> <td>-122.418</td> <td>37.789 </td> <td>45    </td> <td>32    </td> <td>1.03807     </td>\n",
       "        </tr>\n",
       "    </tbody>\n",
       "        <tr>\n",
       "            <td>5   </td> <td>2012-09-01 00:00:00</td> <td>9/1/12 1:52 </td> <td>11.75   </td> <td>1   </td> <td>-122.433</td> <td>37.7841</td> <td>-122.411</td> <td>37.787 </td> <td>77    </td> <td>7     </td> <td>0.960851    </td>\n",
       "        </tr>\n",
       "    </tbody>\n",
       "        <tr>\n",
       "            <td>6   </td> <td>2012-09-01 00:00:00</td> <td>9/1/12 2:51 </td> <td>5.15    </td> <td>1   </td> <td>-122.409</td> <td>37.7856</td> <td>-122.412</td> <td>37.791 </td> <td>7     </td> <td>29    </td> <td>0.414315    </td>\n",
       "        </tr>\n",
       "    </tbody>\n",
       "        <tr>\n",
       "            <td>7   </td> <td>2012-09-01 00:00:00</td> <td>9/1/12 3:47 </td> <td>43.65   </td> <td>1   </td> <td>-122.403</td> <td>37.7927</td> <td>-122.386</td> <td>37.6181</td> <td>2     </td> <td>239   </td> <td>14.5105     </td>\n",
       "        </tr>\n",
       "    </tbody>\n",
       "        <tr>\n",
       "            <td>8   </td> <td>2012-09-01 00:00:00</td> <td>9/1/12 0:57 </td> <td>46.75   </td> <td>1   </td> <td>-122.387</td> <td>37.6174</td> <td>-122.407</td> <td>37.7889</td> <td>239   </td> <td>5     </td> <td>14.2747     </td>\n",
       "        </tr>\n",
       "    </tbody>\n",
       "        <tr>\n",
       "            <td>9   </td> <td>2012-09-01 00:00:00</td> <td>9/1/12 4:43 </td> <td>6.25    </td> <td>1   </td> <td>-122.422</td> <td>37.7977</td> <td>-122.418</td> <td>37.789 </td> <td>34    </td> <td>31    </td> <td>0.685312    </td>\n",
       "        </tr>\n",
       "    </tbody>\n",
       "        <tr>\n",
       "            <td>10  </td> <td>2012-09-01 00:00:00</td> <td>9/1/12 2:05 </td> <td>9.55    </td> <td>1   </td> <td>-122.418</td> <td>37.791 </td> <td>-122.429</td> <td>37.7724</td> <td>32    </td> <td>81    </td> <td>1.59807     </td>\n",
       "        </tr>\n",
       "    </tbody>\n",
       "</table>\n",
       "<p>... (46394 rows omitted)</p"
      ],
      "text/plain": [
       "id   | departure time      | arrival time | fare ($) | num  | dep lon  | dep lat | arr lon  | arr lat | deptaz | arrtaz | dist (miles)\n",
       "0    | 2012-09-01 00:00:00 | 9/1/12 0:20  | 13.2     | 1    | -122.414 | 37.8027 | -122.421 | 37.7854 | 38     | 30     | 1.98084\n",
       "1    | 2012-09-01 00:00:00 | 9/1/12 0:31  | 10.65    | 1    | -122.42  | 37.7861 | -122.435 | 37.7622 | 30     | 94     | 2.40224\n",
       "2    | 2012-09-01 00:00:00 | 9/1/12 0:49  | 9        | 1    | -122.415 | 37.7747 | -122.408 | 37.7826 | 10     | 11     | 0.479348\n",
       "4    | 2012-09-01 00:00:00 | 9/1/12 1:13  | 7.35     | 1    | -122.43  | 37.7978 | -122.418 | 37.789  | 45     | 32     | 1.03807\n",
       "5    | 2012-09-01 00:00:00 | 9/1/12 1:52  | 11.75    | 1    | -122.433 | 37.7841 | -122.411 | 37.787  | 77     | 7      | 0.960851\n",
       "6    | 2012-09-01 00:00:00 | 9/1/12 2:51  | 5.15     | 1    | -122.409 | 37.7856 | -122.412 | 37.791  | 7      | 29     | 0.414315\n",
       "7    | 2012-09-01 00:00:00 | 9/1/12 3:47  | 43.65    | 1    | -122.403 | 37.7927 | -122.386 | 37.6181 | 2      | 239    | 14.5105\n",
       "8    | 2012-09-01 00:00:00 | 9/1/12 0:57  | 46.75    | 1    | -122.387 | 37.6174 | -122.407 | 37.7889 | 239    | 5      | 14.2747\n",
       "9    | 2012-09-01 00:00:00 | 9/1/12 4:43  | 6.25     | 1    | -122.422 | 37.7977 | -122.418 | 37.789  | 34     | 31     | 0.685312\n",
       "10   | 2012-09-01 00:00:00 | 9/1/12 2:05  | 9.55     | 1    | -122.418 | 37.791  | -122.429 | 37.7724 | 32     | 81     | 1.59807\n",
       "... (46394 rows omitted)"
      ]
     },
     "execution_count": 7,
     "metadata": {},
     "output_type": "execute_result"
    }
   ],
   "source": [
    "refined_data['departure time'] = refined_data.select(\"departure time\").apply(lambda x: parse_prefix(x[0],\"%m/%d/%y\"))\n",
    "refined_data"
   ]
  },
  {
   "cell_type": "code",
   "execution_count": 8,
   "metadata": {},
   "outputs": [],
   "source": [
    "training = refined_data.where(list(map(lambda x: x.day >= 1 and x.day <=10, refined_data[\"departure time\"])))\n",
    "training = training.where(list(map(lambda x: x.month == 9, training['departure time'])))"
   ]
  },
  {
   "cell_type": "code",
   "execution_count": 9,
   "metadata": {},
   "outputs": [],
   "source": [
    "simp_training = training.select('fare ($)', 'dist (miles)')"
   ]
  },
  {
   "cell_type": "code",
   "execution_count": 10,
   "metadata": {},
   "outputs": [
    {
     "data": {
      "text/html": [
       "<table border=\"1\" class=\"dataframe\">\n",
       "    <thead>\n",
       "        <tr>\n",
       "            <th>id</th> <th>departure time</th> <th>arrival time</th> <th>fare ($)</th> <th>num</th> <th>dep lon</th> <th>dep lat</th> <th>arr lon</th> <th>arr lat</th> <th>deptaz</th> <th>arrtaz</th> <th>dist (miles)</th>\n",
       "        </tr>\n",
       "    </thead>\n",
       "    <tbody>\n",
       "        <tr>\n",
       "            <td>28322</td> <td>2012-09-11 00:00:00</td> <td>9/11/12 1:12</td> <td>45.65   </td> <td>1   </td> <td>-122.386</td> <td>37.6173</td> <td>-122.401</td> <td>37.795 </td> <td>239   </td> <td>24    </td> <td>14.7033     </td>\n",
       "        </tr>\n",
       "    </tbody>\n",
       "        <tr>\n",
       "            <td>28351</td> <td>2012-09-11 00:00:00</td> <td>9/11/12 0:34</td> <td>7.9     </td> <td>1   </td> <td>-122.4  </td> <td>37.7943</td> <td>-122.412</td> <td>37.7878</td> <td>22    </td> <td>7     </td> <td>1.18652     </td>\n",
       "        </tr>\n",
       "    </tbody>\n",
       "        <tr>\n",
       "            <td>28359</td> <td>2012-09-11 00:00:00</td> <td>9/11/12 0:18</td> <td>7.9     </td> <td>1   </td> <td>-122.421</td> <td>37.765 </td> <td>-122.438</td> <td>37.7742</td> <td>106   </td> <td>85    </td> <td>1.33785     </td>\n",
       "        </tr>\n",
       "    </tbody>\n",
       "        <tr>\n",
       "            <td>28360</td> <td>2012-09-11 00:00:00</td> <td>9/11/12 0:29</td> <td>9.55    </td> <td>1   </td> <td>-122.438</td> <td>37.7775</td> <td>-122.435</td> <td>37.797 </td> <td>86    </td> <td>45    </td> <td>1.82918     </td>\n",
       "        </tr>\n",
       "    </tbody>\n",
       "        <tr>\n",
       "            <td>28418</td> <td>2012-09-11 00:00:00</td> <td>9/11/12 0:16</td> <td>9.55    </td> <td>1   </td> <td>-122.4  </td> <td>37.7906</td> <td>-122.421</td> <td>37.7927</td> <td>4     </td> <td>33    </td> <td>1.31748     </td>\n",
       "        </tr>\n",
       "    </tbody>\n",
       "        <tr>\n",
       "            <td>28463</td> <td>2012-09-11 00:00:00</td> <td>9/11/12 4:40</td> <td>9.25    </td> <td>1   </td> <td>-122.429</td> <td>37.7666</td> <td>-122.443</td> <td>37.7652</td> <td>104   </td> <td>83    </td> <td>0.797884    </td>\n",
       "        </tr>\n",
       "    </tbody>\n",
       "        <tr>\n",
       "            <td>28495</td> <td>2012-09-11 00:00:00</td> <td>9/11/12 5:24</td> <td>51.06   </td> <td>1   </td> <td>-122.436</td> <td>37.7649</td> <td>-122.384</td> <td>37.6156</td> <td>83    </td> <td>239   </td> <td>14.0658     </td>\n",
       "        </tr>\n",
       "    </tbody>\n",
       "        <tr>\n",
       "            <td>28496</td> <td>2012-09-11 00:00:00</td> <td>9/11/12 5:49</td> <td>16.7    </td> <td>1   </td> <td>-122.466</td> <td>37.7867</td> <td>-122.395</td> <td>37.7944</td> <td>65    </td> <td>22    </td> <td>4.08424     </td>\n",
       "        </tr>\n",
       "    </tbody>\n",
       "        <tr>\n",
       "            <td>28522</td> <td>2012-09-11 00:00:00</td> <td>9/11/12 4:36</td> <td>18.35   </td> <td>1   </td> <td>-122.399</td> <td>37.7764</td> <td>-122.432</td> <td>37.7318</td> <td>18    </td> <td>134   </td> <td>4.61251     </td>\n",
       "        </tr>\n",
       "    </tbody>\n",
       "        <tr>\n",
       "            <td>28526</td> <td>2012-09-11 00:00:00</td> <td>9/11/12 2:03</td> <td>9.55    </td> <td>1   </td> <td>-122.406</td> <td>37.7976</td> <td>-122.393</td> <td>37.7765</td> <td>37    </td> <td>109   </td> <td>2.15043     </td>\n",
       "        </tr>\n",
       "    </tbody>\n",
       "</table>\n",
       "<p>... (12142 rows omitted)</p"
      ],
      "text/plain": [
       "id    | departure time      | arrival time | fare ($) | num  | dep lon  | dep lat | arr lon  | arr lat | deptaz | arrtaz | dist (miles)\n",
       "28322 | 2012-09-11 00:00:00 | 9/11/12 1:12 | 45.65    | 1    | -122.386 | 37.6173 | -122.401 | 37.795  | 239    | 24     | 14.7033\n",
       "28351 | 2012-09-11 00:00:00 | 9/11/12 0:34 | 7.9      | 1    | -122.4   | 37.7943 | -122.412 | 37.7878 | 22     | 7      | 1.18652\n",
       "28359 | 2012-09-11 00:00:00 | 9/11/12 0:18 | 7.9      | 1    | -122.421 | 37.765  | -122.438 | 37.7742 | 106    | 85     | 1.33785\n",
       "28360 | 2012-09-11 00:00:00 | 9/11/12 0:29 | 9.55     | 1    | -122.438 | 37.7775 | -122.435 | 37.797  | 86     | 45     | 1.82918\n",
       "28418 | 2012-09-11 00:00:00 | 9/11/12 0:16 | 9.55     | 1    | -122.4   | 37.7906 | -122.421 | 37.7927 | 4      | 33     | 1.31748\n",
       "28463 | 2012-09-11 00:00:00 | 9/11/12 4:40 | 9.25     | 1    | -122.429 | 37.7666 | -122.443 | 37.7652 | 104    | 83     | 0.797884\n",
       "28495 | 2012-09-11 00:00:00 | 9/11/12 5:24 | 51.06    | 1    | -122.436 | 37.7649 | -122.384 | 37.6156 | 83     | 239    | 14.0658\n",
       "28496 | 2012-09-11 00:00:00 | 9/11/12 5:49 | 16.7     | 1    | -122.466 | 37.7867 | -122.395 | 37.7944 | 65     | 22     | 4.08424\n",
       "28522 | 2012-09-11 00:00:00 | 9/11/12 4:36 | 18.35    | 1    | -122.399 | 37.7764 | -122.432 | 37.7318 | 18     | 134    | 4.61251\n",
       "28526 | 2012-09-11 00:00:00 | 9/11/12 2:03 | 9.55     | 1    | -122.406 | 37.7976 | -122.393 | 37.7765 | 37     | 109    | 2.15043\n",
       "... (12142 rows omitted)"
      ]
     },
     "execution_count": 10,
     "metadata": {},
     "output_type": "execute_result"
    }
   ],
   "source": [
    "testing = refined_data.where(list(map(lambda x: x.day >= 11 and x.day <=17, refined_data[\"departure time\"])))\n",
    "testing"
   ]
  },
  {
   "cell_type": "code",
   "execution_count": 57,
   "metadata": {},
   "outputs": [
    {
     "data": {
      "text/plain": [
       "array([[ 0.56267048],\n",
       "       [ 2.1505128 ]])"
      ]
     },
     "execution_count": 57,
     "metadata": {},
     "output_type": "execute_result"
    }
   ],
   "source": [
    "#simp_testing = testing.select('fare ($)', 'dist (miles)')\n",
    "#simp_testing\n",
    "\"\"\"Analysis 3\"\"\"\n",
    "length=len(refined_data[1])\n",
    "refined_data['predicted_fare'] = 3.5 + 0.55 * ((5 * refined_data['dist (miles)']) - 1)\n",
    "refined_data['extra_fare'] = refined_data['fare ($)'] - refined_data['predicted_fare']\n",
    "refined_data['constant'] = np.ones(length)\n",
    "refined_data\n",
    "A = refined_data.where(list(map(lambda x: x.day >= 1 and x.day <=10, refined_data[\"departure time\"]))).select('dist (miles)', 'constant')\n",
    "y = refined_data.where(list(map(lambda x: x.day >= 1 and x.day <=10, refined_data[\"departure time\"]))).select('extra_fare')\n",
    "A=A.to_df()\n",
    "y=y.to_df()\n",
    "x = np.dot(np.linalg.inv(np.dot(A.T,A)),np.dot(A.T,y))\n",
    "A = refined_data.where(list(map(lambda x: x.day >= 11 and x.day <=17, refined_data[\"departure time\"]))).select('dist (miles)', 'constant')\n",
    "y = refined_data.where(list(map(lambda x: x.day >= 11 and x.day <=17, refined_data[\"departure time\"]))).select('extra_fare')\n",
    "A=A.to_df()\n",
    "y=y.to_df()\n",
    "error = (np.dot(A,x) - y)**2\n",
    "rsse = np.sum(error)**0.5\n",
    "rsse\n",
    "#for i in range(0,len(A2[1])):\n",
    "#    inds = predict(A,A2[1][i],1)\n",
    "#   A2['predicted_load'][i] = np.mean(A[2][inds])  \n",
    "#y = A2[2]"
   ]
  },
  {
   "cell_type": "code",
   "execution_count": 56,
   "metadata": {},
   "outputs": [
    {
     "data": {
      "text/plain": [
       "array([[ 3.31267048],\n",
       "       [ 5.1005128 ]])"
      ]
     },
     "execution_count": 56,
     "metadata": {},
     "output_type": "execute_result"
    }
   ],
   "source": [
    "\"\"\"Analysis 5 Linear Regression\"\"\"\n",
    "#fitting linear regression \n",
    "# def norm(table, label):\n",
    "#     return (table.column(label) - np.mean(table.column(label))) / np.std(table.column(label))\n",
    "\n",
    "# norm_x = norm(simp_training, 'dist (miles)')\n",
    "# norm_y = norm(simp_training, 'fare ($)')\n",
    "# norm_training = Table().with_column('norm x', norm_x, 'norm y', norm_y)\n",
    "# norm_xt = norm(simp_testing, 'dist (miles)')\n",
    "# norm_yt = norm(simp_testing, 'fare ($)')\n",
    "# norm_testing = Table().with_column('norm x', norm_xt, 'norm y', norm_yt)\n",
    "A = refined_data.where(list(map(lambda x: x.day >= 1 and x.day <=10, refined_data[\"departure time\"]))).select('dist (miles)', 'constant')\n",
    "y = refined_data.where(list(map(lambda x: x.day >= 1 and x.day <=10, refined_data[\"departure time\"]))).select('fare ($)')\n",
    "A=A.to_df()\n",
    "y=y.to_df()\n",
    "x = np.dot(np.linalg.inv(np.dot(A.T,A)),np.dot(A.T,y))\n",
    "A = refined_data.where(list(map(lambda x: x.day >= 11 and x.day <=17, refined_data[\"departure time\"]))).select('dist (miles)', 'constant')\n",
    "y = refined_data.where(list(map(lambda x: x.day >= 11 and x.day <=17, refined_data[\"departure time\"]))).select('fare ($)')\n",
    "A=A.to_df()\n",
    "y=y.to_df()\n",
    "error = (np.dot(A,x) - y)**2\n",
    "rsse = np.sum(error)**0.5\n",
    "rsse"
   ]
  },
  {
   "cell_type": "code",
   "execution_count": 13,
   "metadata": {},
   "outputs": [],
   "source": [
    "# correlation = np.mean(norm_training.column(0) * norm_training.column(1))\n",
    "# slope = correlation * (np.std(simp_training.column('fare ($)')) / np.std(simp_training.column('dist (miles)')))\n",
    "# intercept = np.mean(simp_training.column('fare ($)')) - slope * np.mean(simp_training.column('dist (miles)'))"
   ]
  },
  {
   "cell_type": "code",
   "execution_count": null,
   "metadata": {},
   "outputs": [],
   "source": [
    "# prediction = slope * simp_training.column('dist (miles)') + intercept\n",
    "# simp_training = simp_training.with_column('prediction', prediction )\n",
    "# simp_training.scatter('dist (miles)')\n",
    "# plt.xlabel(\"distance (miles)\")\n",
    "# plt.ylabel(\"fare ($)\")\n",
    "# plt.title(\"predicting prices\")\n",
    "\n",
    "def predict(input_table, to_predict, k, return_kneighbor_inds=True):\n",
    "    \n",
    "    input_data = input_table.select('dist (miles)').values\n",
    "    dists = distance(to_predict, input_data)\n",
    "    inds = np.argsort(dists)[0:k]\n",
    "    most_common_response = np.mean(input_table['Load'][inds])\n",
    "    \n",
    "\n",
    "# Predict the power load by k and add a new column for the predicted load associated with k\n",
    "test2['predicted_k1'] = test2.apply(lambda temp: predict_load(train, temp, 1, True),'Temperature')\n",
    "test2['predicted_k3'] = test2.apply(lambda temp: predict_load(train, temp, 3, True),'Temperature')\n",
    "test2['predicted_k5'] = test2.apply(lambda temp: predict_load(train, temp, 5, True),'Temperature')\n",
    "    \n",
    "    \n",
    "    input_data = input_table.column('dist (miles)')\n",
    "    dists = distance(to_predict, input_data)\n",
    "    inds = np.argsort(dists)[0:k]\n",
    "    inds_values = input_table.take(inds)\n",
    "    values = np.mean(inds_values.column(\"fare ($)\"))\n",
    "    return values\n",
    "\n",
    "training = refined_data.where(list(map(lambda x: x.day >= 1 and x.day <=10, refined_data[\"departure time\"])))\n",
    "testing = refined_data.where(list(map(lambda x: x.day >= 11 and x.day <=17, refined_data[\"departure time\"])))\n",
    "# training = training.to_df()\n",
    "# testing = testing.to_df()\n",
    "testing['predicted_fare_knn'] = np.zeros(len(testing['fare ($)']))\n",
    "for i in range(len(testing['fare ($)'])):\n",
    "    inds = predict(training['dist (miles)'],testing['dist (miles)'][i],1)\n",
    "    testing['predicted_fare_knn'][i] = inds  \n",
    "\n",
    "#testing['predicted_fare_knn'] = np.mean(training['fare ($)']predict(training['dist (miles)'],testing['dist (miles)'][i],1))\n",
    "\n",
    "testing"
   ]
  },
  {
   "cell_type": "code",
   "execution_count": 15,
   "metadata": {},
   "outputs": [
    {
     "data": {
      "text/plain": [
       "5.0049333071515694"
      ]
     },
     "execution_count": 15,
     "metadata": {},
     "output_type": "execute_result"
    }
   ],
   "source": [
    "# error = simp_training.column('fare ($)') - prediction\n",
    "# rmse = np.sqrt(np.mean(error**2))\n",
    "# rmse"
   ]
  },
  {
   "cell_type": "code",
   "execution_count": 16,
   "metadata": {},
   "outputs": [
    {
     "data": {
      "image/png": "[encoded data removed]",
      "text/plain": [
       "<matplotlib.figure.Figure at 0x7f03a1063240>"
      ]
     },
     "metadata": {},
     "output_type": "display_data"
    }
   ],
   "source": [
    "# res_simp_training = simp_training.with_column('residuals', error)\n",
    "# res_simp_training.scatter('dist (miles)','residuals' )"
   ]
  },
  {
   "cell_type": "markdown",
   "metadata": {},
   "source": [
    "## k-NN"
   ]
  },
  {
   "cell_type": "code",
   "execution_count": 17,
   "metadata": {},
   "outputs": [
    {
     "data": {
      "text/plain": [
       "array([[-0.35303905],\n",
       "       [-0.26111667],\n",
       "       [-0.68056226],\n",
       "       ..., \n",
       "       [-0.36109767],\n",
       "       [-0.54659323],\n",
       "       [ 0.45196022]])"
      ]
     },
     "execution_count": 17,
     "metadata": {},
     "output_type": "execute_result"
    }
   ],
   "source": [
    "def distance(x,y):\n",
    "    return np.abs(x - y)\n",
    "x = norm_training.select('norm x').values\n",
    "x"
   ]
  },
  {
   "cell_type": "code",
   "execution_count": 18,
   "metadata": {},
   "outputs": [],
   "source": [
    "def predict1(input_table, to_predict, k, return_kneighbor_inds=True):\n",
    "\n",
    "    input_data = input_table.column('dist (miles)')\n",
    "    dists = distance(to_predict, input_data)\n",
    "    inds = np.argsort(dists)[0:k]\n",
    "    inds_values = input_table.take(inds)\n",
    "    values = np.mean(inds_values.column(\"dist (miles)\"))\n",
    "    return values\n",
    "\n",
    "def predict2(input_table, to_predict, k, return_kneighbor_inds=True):\n",
    "    input_data = input_table.select(['Temperature']).values\n",
    "    dists = distance(to_predict, input_data)\n",
    "    inds = np.argsort(dists)[0:k]\n",
    "    return inds"
   ]
  },
  {
   "cell_type": "code",
   "execution_count": 19,
   "metadata": {},
   "outputs": [],
   "source": [
    "\n",
    "    \n"
   ]
  },
  {
   "cell_type": "code",
   "execution_count": 20,
   "metadata": {},
   "outputs": [
    {
     "data": {
      "text/plain": [
       "17.284827469535802"
      ]
     },
     "execution_count": 20,
     "metadata": {},
     "output_type": "execute_result"
    }
   ],
   "source": [
    "accuracyk1 = simp_testing.column('fare ($)') - mean1"
   ]
  },
  {
   "cell_type": "code",
   "execution_count": 21,
   "metadata": {},
   "outputs": [
    {
     "ename": "NameError",
     "evalue": "name 'labels_k1' is not defined",
     "output_type": "error",
     "traceback": [
      "\u001b[0;31m---------------------------------------------------------------------------\u001b[0m",
      "\u001b[0;31mNameError\u001b[0m                                 Traceback (most recent call last)",
      "\u001b[0;32m<ipython-input-21-3fe944eecf7d>\u001b[0m in \u001b[0;36m<module>\u001b[0;34m()\u001b[0m\n\u001b[0;32m----> 1\u001b[0;31m \u001b[0maccuracyk1\u001b[0m \u001b[0;34m=\u001b[0m \u001b[0mnp\u001b[0m\u001b[0;34m.\u001b[0m\u001b[0mcount_nonzero\u001b[0m\u001b[0;34m(\u001b[0m\u001b[0mlabels_k1\u001b[0m \u001b[0;34m==\u001b[0m \u001b[0mtesting\u001b[0m\u001b[0;34m.\u001b[0m\u001b[0mcolumn\u001b[0m\u001b[0;34m(\u001b[0m\u001b[0;34m'fare ($)'\u001b[0m\u001b[0;34m)\u001b[0m\u001b[0;34m)\u001b[0m\u001b[0;34m/\u001b[0m\u001b[0mtesting\u001b[0m\u001b[0;34m.\u001b[0m\u001b[0mnum_rows\u001b[0m\u001b[0;34m\u001b[0m\u001b[0m\n\u001b[0m\u001b[1;32m      2\u001b[0m \u001b[0maccuracyk1\u001b[0m\u001b[0;34m\u001b[0m\u001b[0m\n",
      "\u001b[0;31mNameError\u001b[0m: name 'labels_k1' is not defined"
     ]
    }
   ],
   "source": [
    "accuracyk1 = np.count_nonzero(labels_k1 == testing.column('fare ($)'))/testing.num_rows\n",
    "accuracyk1"
   ]
  },
  {
   "cell_type": "markdown",
   "metadata": {},
   "source": [
    "## all the work below is incorrect"
   ]
  },
  {
   "cell_type": "code",
   "execution_count": 86,
   "metadata": {},
   "outputs": [
    {
     "data": {
      "text/plain": [
       "array([[16213,  5069, 24126, 26520, 31513],\n",
       "       [ 2370, 10369, 32807, 33250, 30286],\n",
       "       [ 4787, 24192, 16895, 19243, 18871],\n",
       "       ..., \n",
       "       [30316, 16891, 29148, 32116,  8526],\n",
       "       [28524, 33477, 18459, 23758, 14088],\n",
       "       [30541, 33030, 11816, 16066, 23936]])"
      ]
     },
     "execution_count": 86,
     "metadata": {},
     "output_type": "execute_result"
    }
   ],
   "source": [
    "sorted_test_distancek5 = np.argsort(test_distance, 1)[:,np.arange(0,5)]\n",
    "sorted_test_distancek5"
   ]
  },
  {
   "cell_type": "code",
   "execution_count": 99,
   "metadata": {},
   "outputs": [
    {
     "ename": "TypeError",
     "evalue": "Cannot cast array data from dtype('float64') to dtype('int64') according to the rule 'safe'",
     "output_type": "error",
     "traceback": [
      "\u001b[0;31m---------------------------------------------------------------------------\u001b[0m",
      "\u001b[0;31mTypeError\u001b[0m                                 Traceback (most recent call last)",
      "\u001b[0;32m<ipython-input-99-d3d4cc39ab88>\u001b[0m in \u001b[0;36m<module>\u001b[0;34m()\u001b[0m\n\u001b[1;32m      2\u001b[0m \u001b[0mlabels_k5\u001b[0m \u001b[0;34m=\u001b[0m \u001b[0mnp\u001b[0m\u001b[0;34m.\u001b[0m\u001b[0mzeros\u001b[0m\u001b[0;34m(\u001b[0m\u001b[0mlen\u001b[0m\u001b[0;34m(\u001b[0m\u001b[0mk5\u001b[0m\u001b[0;34m)\u001b[0m\u001b[0;34m)\u001b[0m\u001b[0;34m\u001b[0m\u001b[0m\n\u001b[1;32m      3\u001b[0m \u001b[0;32mfor\u001b[0m \u001b[0mi\u001b[0m \u001b[0;32min\u001b[0m \u001b[0mnp\u001b[0m\u001b[0;34m.\u001b[0m\u001b[0marange\u001b[0m\u001b[0;34m(\u001b[0m\u001b[0mlen\u001b[0m\u001b[0;34m(\u001b[0m\u001b[0mk5\u001b[0m\u001b[0;34m)\u001b[0m\u001b[0;34m)\u001b[0m\u001b[0;34m:\u001b[0m\u001b[0;34m\u001b[0m\u001b[0m\n\u001b[0;32m----> 4\u001b[0;31m     \u001b[0mcount\u001b[0m \u001b[0;34m=\u001b[0m \u001b[0mnp\u001b[0m\u001b[0;34m.\u001b[0m\u001b[0margmax\u001b[0m\u001b[0;34m(\u001b[0m\u001b[0mnp\u001b[0m\u001b[0;34m.\u001b[0m\u001b[0mbincount\u001b[0m\u001b[0;34m(\u001b[0m\u001b[0mk5\u001b[0m\u001b[0;34m[\u001b[0m\u001b[0mi\u001b[0m\u001b[0;34m,\u001b[0m\u001b[0;34m:\u001b[0m\u001b[0;34m]\u001b[0m\u001b[0;34m)\u001b[0m\u001b[0;34m)\u001b[0m\u001b[0;34m\u001b[0m\u001b[0m\n\u001b[0m\u001b[1;32m      5\u001b[0m     \u001b[0mlabels_k5\u001b[0m\u001b[0;34m[\u001b[0m\u001b[0mi\u001b[0m\u001b[0;34m]\u001b[0m \u001b[0;34m=\u001b[0m \u001b[0mcount\u001b[0m\u001b[0;34m\u001b[0m\u001b[0m\n\u001b[1;32m      6\u001b[0m \u001b[0mlabels_k5\u001b[0m\u001b[0;34m\u001b[0m\u001b[0m\n",
      "\u001b[0;31mTypeError\u001b[0m: Cannot cast array data from dtype('float64') to dtype('int64') according to the rule 'safe'"
     ]
    }
   ],
   "source": [
    "k5 = training.column('fare ($)')[sorted_test_distancek5]\n",
    "labels_k5 = np.zeros(len(k5))\n",
    "for i in np.arange(len(k5)):\n",
    "    count = np.argmax(np.bincount(k5[i,:]))\n",
    "    labels_k5[i] = count\n",
    "labels_k5"
   ]
  },
  {
   "cell_type": "code",
   "execution_count": 81,
   "metadata": {},
   "outputs": [
    {
     "data": {
      "text/plain": [
       "0.0"
      ]
     },
     "execution_count": 81,
     "metadata": {},
     "output_type": "execute_result"
    }
   ],
   "source": [
    "accuracyk3 = np.count_nonzero(labels_k3 == testing.column('fare ($)'))/testing.num_rows\n",
    "accuracyk3"
   ]
  },
  {
   "cell_type": "code",
   "execution_count": 89,
   "metadata": {},
   "outputs": [
    {
     "data": {
      "text/plain": [
       "array([[16213,  5069, 24126, ..., 23170, 14358,  9644],\n",
       "       [ 2370, 10369, 32807, ...,  2862, 21987, 16057],\n",
       "       [ 4787, 24192, 16895, ..., 24379,  6879,  7427],\n",
       "       ..., \n",
       "       [30316, 16891, 29148, ..., 32924, 31342, 32452],\n",
       "       [28524, 33477, 18459, ..., 20111, 31025, 25863],\n",
       "       [30541, 33030, 11816, ..., 16749, 29342, 20757]])"
      ]
     },
     "execution_count": 89,
     "metadata": {},
     "output_type": "execute_result"
    }
   ],
   "source": [
    "sorted_test_distancek10 = np.argsort(test_distance, 1)[:,np.arange(0,10)]\n",
    "sorted_test_distancek10"
   ]
  },
  {
   "cell_type": "code",
   "execution_count": 90,
   "metadata": {},
   "outputs": [
    {
     "ename": "TypeError",
     "evalue": "Cannot cast array data from dtype('float64') to dtype('int64') according to the rule 'safe'",
     "output_type": "error",
     "traceback": [
      "\u001b[0;31m---------------------------------------------------------------------------\u001b[0m",
      "\u001b[0;31mTypeError\u001b[0m                                 Traceback (most recent call last)",
      "\u001b[0;32m<ipython-input-90-5be74017b8a2>\u001b[0m in \u001b[0;36m<module>\u001b[0;34m()\u001b[0m\n\u001b[1;32m      2\u001b[0m \u001b[0mlabels_k10\u001b[0m \u001b[0;34m=\u001b[0m \u001b[0mnp\u001b[0m\u001b[0;34m.\u001b[0m\u001b[0mzeros\u001b[0m\u001b[0;34m(\u001b[0m\u001b[0mlen\u001b[0m\u001b[0;34m(\u001b[0m\u001b[0mk10\u001b[0m\u001b[0;34m)\u001b[0m\u001b[0;34m)\u001b[0m\u001b[0;34m\u001b[0m\u001b[0m\n\u001b[1;32m      3\u001b[0m \u001b[0;32mfor\u001b[0m \u001b[0mi\u001b[0m \u001b[0;32min\u001b[0m \u001b[0mnp\u001b[0m\u001b[0;34m.\u001b[0m\u001b[0marange\u001b[0m\u001b[0;34m(\u001b[0m\u001b[0mlen\u001b[0m\u001b[0;34m(\u001b[0m\u001b[0mk10\u001b[0m\u001b[0;34m)\u001b[0m\u001b[0;34m)\u001b[0m\u001b[0;34m:\u001b[0m\u001b[0;34m\u001b[0m\u001b[0m\n\u001b[0;32m----> 4\u001b[0;31m     \u001b[0mcount\u001b[0m \u001b[0;34m=\u001b[0m \u001b[0mnp\u001b[0m\u001b[0;34m.\u001b[0m\u001b[0margmax\u001b[0m\u001b[0;34m(\u001b[0m\u001b[0mnp\u001b[0m\u001b[0;34m.\u001b[0m\u001b[0mbincount\u001b[0m\u001b[0;34m(\u001b[0m\u001b[0mk10\u001b[0m\u001b[0;34m[\u001b[0m\u001b[0mi\u001b[0m\u001b[0;34m,\u001b[0m\u001b[0;34m:\u001b[0m\u001b[0;34m]\u001b[0m\u001b[0;34m)\u001b[0m\u001b[0;34m)\u001b[0m\u001b[0;34m\u001b[0m\u001b[0m\n\u001b[0m\u001b[1;32m      5\u001b[0m     \u001b[0mlabels_k10\u001b[0m\u001b[0;34m[\u001b[0m\u001b[0mi\u001b[0m\u001b[0;34m]\u001b[0m \u001b[0;34m=\u001b[0m \u001b[0mcount\u001b[0m\u001b[0;34m\u001b[0m\u001b[0m\n\u001b[1;32m      6\u001b[0m \u001b[0mlabels_k10\u001b[0m\u001b[0;34m\u001b[0m\u001b[0m\n",
      "\u001b[0;31mTypeError\u001b[0m: Cannot cast array data from dtype('float64') to dtype('int64') according to the rule 'safe'"
     ]
    }
   ],
   "source": [
    "k10 = training.column('fare ($)')[sorted_test_distancek10]\n",
    "labels_k10 = np.zeros(len(k10))\n",
    "for i in np.arange(len(k10)):\n",
    "    count = np.argmax(np.bincount(k10[i,:]))\n",
    "    labels_k10[i] = count\n",
    "labels_k10"
   ]
  },
  {
   "cell_type": "code",
   "execution_count": 98,
   "metadata": {},
   "outputs": [
    {
     "data": {
      "text/plain": [
       "0.0"
      ]
     },
     "execution_count": 98,
     "metadata": {},
     "output_type": "execute_result"
    }
   ],
   "source": [
    "accuracyk10 = np.count_nonzero(labels_k10 == testing.column('fare ($)'))/testing.num_rows\n",
    "accuracyk10"
   ]
  },
  {
   "cell_type": "code",
   "execution_count": 97,
   "metadata": {
    "collapsed": true
   },
   "outputs": [],
   "source": [
    "#which method is better and why:\n",
    "# based on the residual plot and correclation, \n",
    "#it seems to be that linear regression is not the most appropriate model\n",
    "#for predicting data in this scenario. There is a pattern in the residual plot \n",
    "#even though the correlation coefficient was realtively high (0.902)\n"
   ]
  },
  {
   "cell_type": "code",
   "execution_count": 96,
   "metadata": {
    "collapsed": true
   },
   "outputs": [],
   "source": [
    "#what happens as K gets larger:\n",
    "#as K increases, the accuracy of the prediction (performance of the classifier) becomes higher. \n",
    "#This makes sense since we are taking into account more data every time and comapring the values with more training values."
   ]
  },
  {
   "cell_type": "code",
   "execution_count": null,
   "metadata": {
    "collapsed": true
   },
   "outputs": [],
   "source": []
  }
 ],
 "metadata": {
  "kernelspec": {
   "display_name": "Python 3",
   "language": "python",
   "name": "python3"
  },
  "language_info": {
   "codemirror_mode": {
    "name": "ipython",
    "version": 3
   },
   "file_extension": ".py",
   "mimetype": "text/x-python",
   "name": "python",
   "nbconvert_exporter": "python",
   "pygments_lexer": "ipython3",
   "version": "3.6.1"
  }
 },
 "nbformat": 4,
 "nbformat_minor": 2
}
